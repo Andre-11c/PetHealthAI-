{
 "cells": [
  {
   "cell_type": "code",
   "execution_count": 11,
   "id": "e1f40443",
   "metadata": {},
   "outputs": [],
   "source": [
    "import json\n",
    "from pathlib import Path\n",
    "import numpy as np\n",
    "import pandas as pd\n",
    "\n",
    "from sklearn.compose import ColumnTransformer\n",
    "from sklearn.pipeline import Pipeline\n",
    "from sklearn.preprocessing import OneHotEncoder, StandardScaler, OrdinalEncoder\n",
    "from sklearn.model_selection import train_test_split\n",
    "from sklearn.metrics import accuracy_score, f1_score, classification_report, confusion_matrix\n",
    "\n",
    "from sklearn.tree import DecisionTreeClassifier\n",
    "from sklearn.ensemble import RandomForestClassifier\n",
    "from sklearn.svm import LinearSVC"
   ]
  },
  {
   "cell_type": "markdown",
   "id": "761c635f",
   "metadata": {},
   "source": [
    "Cargar Data Funcion"
   ]
  },
  {
   "cell_type": "code",
   "execution_count": 12,
   "id": "ce542c2b",
   "metadata": {},
   "outputs": [],
   "source": [
    "RANDOM_STATE = 42\n",
    "DATA_PATH = \"./data/animal_disease_prediction_cleaned.csv\"\n",
    "OUT_DIR = Path(\"./outputs\"); OUT_DIR.mkdir(parents=True, exist_ok=True)"
   ]
  },
  {
   "cell_type": "code",
   "execution_count": 13,
   "id": "8d6e5b24",
   "metadata": {},
   "outputs": [],
   "source": [
    "def load_data():\n",
    "    df = pd.read_csv(DATA_PATH)\n",
    "    y = df[\"Disease_Prediction\"].astype(str)\n",
    "    X = df.drop(columns=[\"Disease_Prediction\"])\n",
    "    cat_cols = X.select_dtypes(include=[\"object\"]).columns.tolist()\n",
    "    num_cols = X.select_dtypes(include=[np.number]).columns.tolist()\n",
    "    return X, y, cat_cols, num_cols\n"
   ]
  },
  {
   "cell_type": "markdown",
   "id": "b374ba54",
   "metadata": {},
   "source": [
    "Pipeline para trees Funcion"
   ]
  },
  {
   "cell_type": "code",
   "execution_count": 14,
   "id": "2930e156",
   "metadata": {},
   "outputs": [],
   "source": [
    "def preprocessor_for_trees(cat_cols, num_cols):\n",
    "    # Árbol/Forest: Ordinal para categóricas (rápido y sin explosionar dimensiones); numéricas pasan tal cual\n",
    "    return ColumnTransformer(\n",
    "        transformers=[\n",
    "            (\"cat\", OrdinalEncoder(handle_unknown=\"use_encoded_value\", unknown_value=-1), cat_cols),\n",
    "            (\"num\", \"passthrough\", num_cols),\n",
    "        ],\n",
    "        remainder=\"drop\"\n",
    "    )\n"
   ]
  },
  {
   "cell_type": "markdown",
   "id": "961c28bd",
   "metadata": {},
   "source": [
    "Pipeline para SVM"
   ]
  },
  {
   "cell_type": "code",
   "execution_count": 15,
   "id": "bd91825d",
   "metadata": {},
   "outputs": [],
   "source": [
    "def preprocessor_for_svm(cat_cols, num_cols):\n",
    "    # SVM: One-Hot para categóricas y escalado en numéricas; salida es esparsa\n",
    "    return ColumnTransformer(\n",
    "        transformers=[\n",
    "            (\"cat\", OneHotEncoder(handle_unknown=\"ignore\", sparse=True), cat_cols),\n",
    "            (\"num\", StandardScaler(with_mean=False), num_cols),\n",
    "        ],\n",
    "        remainder=\"drop\",\n",
    "    )\n"
   ]
  },
  {
   "cell_type": "markdown",
   "id": "e2d8d93c",
   "metadata": {},
   "source": [
    "Evaluacion y reporte Funcion "
   ]
  },
  {
   "cell_type": "code",
   "execution_count": 16,
   "id": "6eeb6852",
   "metadata": {},
   "outputs": [],
   "source": [
    "def eval_and_report(name, y_true_val, y_pred_val, y_true_test, y_pred_test):\n",
    "    rows = []\n",
    "    for split, yt, yp in [(\"val\", y_true_val, y_pred_val), (\"test\", y_true_test, y_pred_test)]:\n",
    "        acc = accuracy_score(yt, yp)\n",
    "        f1m = f1_score(yt, yp, average=\"macro\")\n",
    "        print(f\"\\n[{name}] {split.upper()} - accuracy={acc:.4f} macroF1={f1m:.4f}\")\n",
    "        print(classification_report(yt, yp, digits=4))\n",
    "        print(\"Matriz de confusión:\")\n",
    "        print(confusion_matrix(yt, yp))\n",
    "        rows.append({\"model\": name, \"split\": split, \"accuracy\": acc, \"macro_f1\": f1m})\n",
    "    return rows"
   ]
  },
  {
   "cell_type": "code",
   "execution_count": 17,
   "id": "13aea8b3",
   "metadata": {},
   "outputs": [
    {
     "ename": "TypeError",
     "evalue": "OneHotEncoder.__init__() got an unexpected keyword argument 'sparse'",
     "output_type": "error",
     "traceback": [
      "\u001b[31m---------------------------------------------------------------------------\u001b[39m",
      "\u001b[31mTypeError\u001b[39m                                 Traceback (most recent call last)",
      "\u001b[36mCell\u001b[39m\u001b[36m \u001b[39m\u001b[32mIn[17]\u001b[39m\u001b[32m, line 21\u001b[39m\n\u001b[32m      4\u001b[39m X_temp, X_test, y_temp, y_test = train_test_split(\n\u001b[32m      5\u001b[39m     X, y, test_size=\u001b[32m0.20\u001b[39m, random_state=RANDOM_STATE, stratify=y\n\u001b[32m      6\u001b[39m )\n\u001b[32m      7\u001b[39m X_train, X_val, y_train, y_val = train_test_split(\n\u001b[32m      8\u001b[39m     X_temp, y_temp, test_size=\u001b[32m0.25\u001b[39m, random_state=RANDOM_STATE, stratify=y_temp\n\u001b[32m      9\u001b[39m )\n\u001b[32m     11\u001b[39m models = {\n\u001b[32m     12\u001b[39m     \u001b[33m\"\u001b[39m\u001b[33mDecisionTree\u001b[39m\u001b[33m\"\u001b[39m: (\n\u001b[32m     13\u001b[39m         preprocessor_for_trees(cat_cols, num_cols),\n\u001b[32m     14\u001b[39m         DecisionTreeClassifier(max_depth=\u001b[32m8\u001b[39m, min_samples_leaf=\u001b[32m10\u001b[39m, class_weight=\u001b[33m\"\u001b[39m\u001b[33mbalanced\u001b[39m\u001b[33m\"\u001b[39m, random_state=RANDOM_STATE)\n\u001b[32m     15\u001b[39m     ),\n\u001b[32m     16\u001b[39m     \u001b[33m\"\u001b[39m\u001b[33mRandomForest\u001b[39m\u001b[33m\"\u001b[39m: (\n\u001b[32m     17\u001b[39m         preprocessor_for_trees(cat_cols, num_cols),\n\u001b[32m     18\u001b[39m         RandomForestClassifier(n_estimators=\u001b[32m300\u001b[39m, max_depth=\u001b[38;5;28;01mNone\u001b[39;00m, n_jobs=-\u001b[32m1\u001b[39m, class_weight=\u001b[33m\"\u001b[39m\u001b[33mbalanced\u001b[39m\u001b[33m\"\u001b[39m, random_state=RANDOM_STATE)\n\u001b[32m     19\u001b[39m     ),\n\u001b[32m     20\u001b[39m     \u001b[33m\"\u001b[39m\u001b[33mLinearSVM\u001b[39m\u001b[33m\"\u001b[39m: (\n\u001b[32m---> \u001b[39m\u001b[32m21\u001b[39m         \u001b[43mpreprocessor_for_svm\u001b[49m\u001b[43m(\u001b[49m\u001b[43mcat_cols\u001b[49m\u001b[43m,\u001b[49m\u001b[43m \u001b[49m\u001b[43mnum_cols\u001b[49m\u001b[43m)\u001b[49m,\n\u001b[32m     22\u001b[39m         LinearSVC(C=\u001b[32m1.0\u001b[39m, class_weight=\u001b[33m\"\u001b[39m\u001b[33mbalanced\u001b[39m\u001b[33m\"\u001b[39m, random_state=RANDOM_STATE)\n\u001b[32m     23\u001b[39m     ),\n\u001b[32m     24\u001b[39m }\n\u001b[32m     26\u001b[39m all_rows = []\n\u001b[32m     27\u001b[39m \u001b[38;5;28;01mfor\u001b[39;00m name, (pre, clf) \u001b[38;5;129;01min\u001b[39;00m models.items():\n",
      "\u001b[36mCell\u001b[39m\u001b[36m \u001b[39m\u001b[32mIn[15]\u001b[39m\u001b[32m, line 5\u001b[39m, in \u001b[36mpreprocessor_for_svm\u001b[39m\u001b[34m(cat_cols, num_cols)\u001b[39m\n\u001b[32m      1\u001b[39m \u001b[38;5;28;01mdef\u001b[39;00m\u001b[38;5;250m \u001b[39m\u001b[34mpreprocessor_for_svm\u001b[39m(cat_cols, num_cols):\n\u001b[32m      2\u001b[39m     \u001b[38;5;66;03m# SVM: One-Hot para categóricas y escalado en numéricas; salida es esparsa\u001b[39;00m\n\u001b[32m      3\u001b[39m     \u001b[38;5;28;01mreturn\u001b[39;00m ColumnTransformer(\n\u001b[32m      4\u001b[39m         transformers=[\n\u001b[32m----> \u001b[39m\u001b[32m5\u001b[39m             (\u001b[33m\"\u001b[39m\u001b[33mcat\u001b[39m\u001b[33m\"\u001b[39m, \u001b[43mOneHotEncoder\u001b[49m\u001b[43m(\u001b[49m\u001b[43mhandle_unknown\u001b[49m\u001b[43m=\u001b[49m\u001b[33;43m\"\u001b[39;49m\u001b[33;43mignore\u001b[39;49m\u001b[33;43m\"\u001b[39;49m\u001b[43m,\u001b[49m\u001b[43m \u001b[49m\u001b[43msparse\u001b[49m\u001b[43m=\u001b[49m\u001b[38;5;28;43;01mTrue\u001b[39;49;00m\u001b[43m)\u001b[49m, cat_cols),\n\u001b[32m      6\u001b[39m             (\u001b[33m\"\u001b[39m\u001b[33mnum\u001b[39m\u001b[33m\"\u001b[39m, StandardScaler(with_mean=\u001b[38;5;28;01mFalse\u001b[39;00m), num_cols),\n\u001b[32m      7\u001b[39m         ],\n\u001b[32m      8\u001b[39m         remainder=\u001b[33m\"\u001b[39m\u001b[33mdrop\u001b[39m\u001b[33m\"\u001b[39m,\n\u001b[32m      9\u001b[39m     )\n",
      "\u001b[31mTypeError\u001b[39m: OneHotEncoder.__init__() got an unexpected keyword argument 'sparse'"
     ]
    }
   ],
   "source": [
    "X, y, cat_cols, num_cols = load_data()\n",
    "\n",
    "# Split 60/20/20\n",
    "X_temp, X_test, y_temp, y_test = train_test_split(\n",
    "    X, y, test_size=0.20, random_state=RANDOM_STATE, stratify=y\n",
    ")\n",
    "X_train, X_val, y_train, y_val = train_test_split(\n",
    "    X_temp, y_temp, test_size=0.25, random_state=RANDOM_STATE, stratify=y_temp\n",
    ")\n",
    "\n",
    "models = {\n",
    "    \"DecisionTree\": (\n",
    "        preprocessor_for_trees(cat_cols, num_cols),\n",
    "        DecisionTreeClassifier(max_depth=8, min_samples_leaf=10, class_weight=\"balanced\", random_state=RANDOM_STATE)\n",
    "    ),\n",
    "    \"RandomForest\": (\n",
    "        preprocessor_for_trees(cat_cols, num_cols),\n",
    "        RandomForestClassifier(n_estimators=300, max_depth=None, n_jobs=-1, class_weight=\"balanced\", random_state=RANDOM_STATE)\n",
    "    ),\n",
    "    \"LinearSVM\": (\n",
    "        preprocessor_for_svm(cat_cols, num_cols),\n",
    "        LinearSVC(C=1.0, class_weight=\"balanced\", random_state=RANDOM_STATE)\n",
    "    ),\n",
    "}\n",
    "\n",
    "all_rows = []\n",
    "for name, (pre, clf) in models.items():\n",
    "    pipe = Pipeline(steps=[(\"pre\", pre), (\"clf\", clf)])\n",
    "    pipe.fit(X_train, y_train)\n",
    "\n",
    "    y_pred_val = pipe.predict(X_val)\n",
    "    y_pred_test = pipe.predict(X_test)\n",
    "\n",
    "    rows = eval_and_report(name, y_val, y_pred_val, y_test, y_pred_test)\n",
    "    all_rows.extend(rows)\n",
    "\n",
    "df_metrics = pd.DataFrame(all_rows).sort_values([\"split\", \"macro_f1\"], ascending=[True, False])\n",
    "out_csv = OUT_DIR / \"tabular_metrics.csv\"\n",
    "df_metrics.to_csv(out_csv, index=False)\n",
    "print(f\"\\nMétricas guardadas en: {out_csv.resolve()}\")"
   ]
  }
 ],
 "metadata": {
  "kernelspec": {
   "display_name": ".venv",
   "language": "python",
   "name": "python3"
  },
  "language_info": {
   "codemirror_mode": {
    "name": "ipython",
    "version": 3
   },
   "file_extension": ".py",
   "mimetype": "text/x-python",
   "name": "python",
   "nbconvert_exporter": "python",
   "pygments_lexer": "ipython3",
   "version": "3.13.7"
  }
 },
 "nbformat": 4,
 "nbformat_minor": 5
}
