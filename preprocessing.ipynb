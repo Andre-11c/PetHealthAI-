{
 "cells": [
  {
   "cell_type": "code",
   "execution_count": 1,
   "id": "90858ed3",
   "metadata": {},
   "outputs": [],
   "source": [
    "import os\n",
    "import kaggle\n",
    "import zipfile\n",
    "import plotly.graph_objects as go\n",
    "import plotly.express as px\n",
    "import numpy as np\n",
    "import pandas as pd\n",
    "from plotly.subplots import make_subplots\n",
    "from styles import *\n",
    "from tensorflow.keras.preprocessing.image import load_img, img_to_array\n",
    "from tensorflow.keras.preprocessing.image import ImageDataGenerator, load_img, img_to_array, save_img\n"
   ]
  },
  {
   "cell_type": "markdown",
   "id": "2f9fdc6a",
   "metadata": {},
   "source": [
    "**Obtener el dataset de imágenes**\n"
   ]
  },
  {
   "cell_type": "code",
   "execution_count": 2,
   "id": "6e4271bb",
   "metadata": {},
   "outputs": [],
   "source": [
    "# dest_path = './data/pet_disease_images'\n",
    "\n",
    "# kaggle.api.dataset_download_files('smadive/pet-disease-images', path=dest_path, unzip=False)\n",
    "# zip_file = os.path.join(dest_path, 'pet-disease-images.zip')\n",
    "\n",
    "# with zipfile.ZipFile(zip_file, 'r') as zip_ref:\n",
    "#     zip_ref.extractall(dest_path)\n"
   ]
  },
  {
   "cell_type": "markdown",
   "id": "ed05872d",
   "metadata": {},
   "source": [
    "**Preprocesamiento de los datos clínicos**"
   ]
  },
  {
   "cell_type": "code",
   "execution_count": 3,
   "id": "12229683",
   "metadata": {},
   "outputs": [],
   "source": [
    "# Data augmentation\n",
    "df = pd.read_csv('./data/animal_disease_prediction.csv')\n",
    "\n",
    "def generate_variation(value, column):\n",
    "    if isinstance(value, (int, float)):\n",
    "        if column == 'Age':\n",
    "            return value + np.random.uniform(-0.5, 0.5)\n",
    "        elif column == 'Weight':\n",
    "            return value * (1 + np.random.uniform(-0.05, 0.05))\n",
    "        elif column == 'Body_Temperature':\n",
    "            temp = float(value.replace('°C', ''))\n",
    "            return f\"{temp + np.random.uniform(-0.3, 0.3):.1f}°C\"\n",
    "        elif column == 'Heart_Rate':\n",
    "            return int(value * (1 + np.random.uniform(-0.05, 0.05)))\n",
    "    return value\n",
    "\n",
    "df_augmented1 = df.copy()\n",
    "df_augmented2 = df.copy()\n",
    "\n",
    "numeric_columns = ['Age', 'Weight', 'Body_Temperature', 'Heart_Rate']\n",
    "for column in numeric_columns:\n",
    "    df_augmented1[column] = df_augmented1[column].apply(lambda x: generate_variation(x, column))\n",
    "    df_augmented2[column] = df_augmented2[column].apply(lambda x: generate_variation(x, column))\n",
    "\n",
    "df_augmented = pd.concat([df, df_augmented1, df_augmented2], ignore_index=True)"
   ]
  },
  {
   "cell_type": "code",
   "execution_count": 4,
   "id": "017ffe2d",
   "metadata": {},
   "outputs": [
    {
     "data": {
      "text/html": [
       "<div>\n",
       "<style scoped>\n",
       "    .dataframe tbody tr th:only-of-type {\n",
       "        vertical-align: middle;\n",
       "    }\n",
       "\n",
       "    .dataframe tbody tr th {\n",
       "        vertical-align: top;\n",
       "    }\n",
       "\n",
       "    .dataframe thead th {\n",
       "        text-align: right;\n",
       "    }\n",
       "</style>\n",
       "<table border=\"1\" class=\"dataframe\">\n",
       "  <thead>\n",
       "    <tr style=\"text-align: right;\">\n",
       "      <th></th>\n",
       "      <th>Animal_Type</th>\n",
       "      <th>Breed</th>\n",
       "      <th>Age</th>\n",
       "      <th>Gender</th>\n",
       "      <th>Weight</th>\n",
       "      <th>Symptom_1</th>\n",
       "      <th>Symptom_2</th>\n",
       "      <th>Symptom_3</th>\n",
       "      <th>Symptom_4</th>\n",
       "      <th>Duration</th>\n",
       "      <th>...</th>\n",
       "      <th>Diarrhea</th>\n",
       "      <th>Coughing</th>\n",
       "      <th>Labored_Breathing</th>\n",
       "      <th>Lameness</th>\n",
       "      <th>Skin_Lesions</th>\n",
       "      <th>Nasal_Discharge</th>\n",
       "      <th>Eye_Discharge</th>\n",
       "      <th>Body_Temperature</th>\n",
       "      <th>Heart_Rate</th>\n",
       "      <th>Disease_Prediction</th>\n",
       "    </tr>\n",
       "  </thead>\n",
       "  <tbody>\n",
       "    <tr>\n",
       "      <th>0</th>\n",
       "      <td>Dog</td>\n",
       "      <td>Labrador</td>\n",
       "      <td>4.0</td>\n",
       "      <td>Male</td>\n",
       "      <td>25.0</td>\n",
       "      <td>Fever</td>\n",
       "      <td>Lethargy</td>\n",
       "      <td>Appetite Loss</td>\n",
       "      <td>Vomiting</td>\n",
       "      <td>3 days</td>\n",
       "      <td>...</td>\n",
       "      <td>No</td>\n",
       "      <td>No</td>\n",
       "      <td>No</td>\n",
       "      <td>No</td>\n",
       "      <td>No</td>\n",
       "      <td>No</td>\n",
       "      <td>No</td>\n",
       "      <td>39.5°C</td>\n",
       "      <td>120</td>\n",
       "      <td>Parvovirus</td>\n",
       "    </tr>\n",
       "    <tr>\n",
       "      <th>1</th>\n",
       "      <td>Cat</td>\n",
       "      <td>Siamese</td>\n",
       "      <td>2.0</td>\n",
       "      <td>Female</td>\n",
       "      <td>4.5</td>\n",
       "      <td>Coughing</td>\n",
       "      <td>Sneezing</td>\n",
       "      <td>Eye Discharge</td>\n",
       "      <td>Nasal Discharge</td>\n",
       "      <td>1 week</td>\n",
       "      <td>...</td>\n",
       "      <td>No</td>\n",
       "      <td>Yes</td>\n",
       "      <td>No</td>\n",
       "      <td>No</td>\n",
       "      <td>No</td>\n",
       "      <td>Yes</td>\n",
       "      <td>Yes</td>\n",
       "      <td>38.9°C</td>\n",
       "      <td>150</td>\n",
       "      <td>Upper Respiratory Infection</td>\n",
       "    </tr>\n",
       "    <tr>\n",
       "      <th>2</th>\n",
       "      <td>Cow</td>\n",
       "      <td>Holstein</td>\n",
       "      <td>3.0</td>\n",
       "      <td>Female</td>\n",
       "      <td>600.0</td>\n",
       "      <td>Fever</td>\n",
       "      <td>Nasal Discharge</td>\n",
       "      <td>Labored Breathing</td>\n",
       "      <td>Coughing</td>\n",
       "      <td>5 days</td>\n",
       "      <td>...</td>\n",
       "      <td>No</td>\n",
       "      <td>Yes</td>\n",
       "      <td>Yes</td>\n",
       "      <td>No</td>\n",
       "      <td>No</td>\n",
       "      <td>Yes</td>\n",
       "      <td>No</td>\n",
       "      <td>40.1°C</td>\n",
       "      <td>90</td>\n",
       "      <td>Foot and Mouth Disease</td>\n",
       "    </tr>\n",
       "    <tr>\n",
       "      <th>3</th>\n",
       "      <td>Dog</td>\n",
       "      <td>Beagle</td>\n",
       "      <td>1.0</td>\n",
       "      <td>Male</td>\n",
       "      <td>10.0</td>\n",
       "      <td>Diarrhea</td>\n",
       "      <td>Vomiting</td>\n",
       "      <td>Lethargy</td>\n",
       "      <td>Appetite Loss</td>\n",
       "      <td>2 days</td>\n",
       "      <td>...</td>\n",
       "      <td>Yes</td>\n",
       "      <td>No</td>\n",
       "      <td>No</td>\n",
       "      <td>No</td>\n",
       "      <td>No</td>\n",
       "      <td>No</td>\n",
       "      <td>No</td>\n",
       "      <td>39.2°C</td>\n",
       "      <td>130</td>\n",
       "      <td>Gastroenteritis</td>\n",
       "    </tr>\n",
       "    <tr>\n",
       "      <th>4</th>\n",
       "      <td>Cat</td>\n",
       "      <td>Persian</td>\n",
       "      <td>5.0</td>\n",
       "      <td>Male</td>\n",
       "      <td>3.8</td>\n",
       "      <td>Lethargy</td>\n",
       "      <td>Appetite Loss</td>\n",
       "      <td>Skin Lesions</td>\n",
       "      <td>No</td>\n",
       "      <td>2 weeks</td>\n",
       "      <td>...</td>\n",
       "      <td>No</td>\n",
       "      <td>No</td>\n",
       "      <td>No</td>\n",
       "      <td>No</td>\n",
       "      <td>Yes</td>\n",
       "      <td>No</td>\n",
       "      <td>No</td>\n",
       "      <td>38.7°C</td>\n",
       "      <td>160</td>\n",
       "      <td>Fungal Infection</td>\n",
       "    </tr>\n",
       "  </tbody>\n",
       "</table>\n",
       "<p>5 rows × 22 columns</p>\n",
       "</div>"
      ],
      "text/plain": [
       "  Animal_Type     Breed  Age  Gender  Weight Symptom_1        Symptom_2  \\\n",
       "0         Dog  Labrador  4.0    Male    25.0     Fever         Lethargy   \n",
       "1         Cat   Siamese  2.0  Female     4.5  Coughing         Sneezing   \n",
       "2         Cow  Holstein  3.0  Female   600.0     Fever  Nasal Discharge   \n",
       "3         Dog    Beagle  1.0    Male    10.0  Diarrhea         Vomiting   \n",
       "4         Cat   Persian  5.0    Male     3.8  Lethargy    Appetite Loss   \n",
       "\n",
       "           Symptom_3        Symptom_4 Duration  ... Diarrhea Coughing  \\\n",
       "0      Appetite Loss         Vomiting   3 days  ...       No       No   \n",
       "1      Eye Discharge  Nasal Discharge   1 week  ...       No      Yes   \n",
       "2  Labored Breathing         Coughing   5 days  ...       No      Yes   \n",
       "3           Lethargy    Appetite Loss   2 days  ...      Yes       No   \n",
       "4       Skin Lesions               No  2 weeks  ...       No       No   \n",
       "\n",
       "  Labored_Breathing Lameness Skin_Lesions Nasal_Discharge Eye_Discharge  \\\n",
       "0                No       No           No              No            No   \n",
       "1                No       No           No             Yes           Yes   \n",
       "2               Yes       No           No             Yes            No   \n",
       "3                No       No           No              No            No   \n",
       "4                No       No          Yes              No            No   \n",
       "\n",
       "  Body_Temperature Heart_Rate           Disease_Prediction  \n",
       "0           39.5°C        120                   Parvovirus  \n",
       "1           38.9°C        150  Upper Respiratory Infection  \n",
       "2           40.1°C         90       Foot and Mouth Disease  \n",
       "3           39.2°C        130              Gastroenteritis  \n",
       "4           38.7°C        160             Fungal Infection  \n",
       "\n",
       "[5 rows x 22 columns]"
      ]
     },
     "execution_count": 4,
     "metadata": {},
     "output_type": "execute_result"
    }
   ],
   "source": [
    "df_augmented.head()"
   ]
  },
  {
   "cell_type": "code",
   "execution_count": 5,
   "id": "f9ce081d",
   "metadata": {},
   "outputs": [
    {
     "name": "stdout",
     "output_type": "stream",
     "text": [
      "<class 'pandas.core.frame.DataFrame'>\n",
      "RangeIndex: 1293 entries, 0 to 1292\n",
      "Data columns (total 22 columns):\n",
      " #   Column              Non-Null Count  Dtype  \n",
      "---  ------              --------------  -----  \n",
      " 0   Animal_Type         1293 non-null   object \n",
      " 1   Breed               1293 non-null   object \n",
      " 2   Age                 1293 non-null   float64\n",
      " 3   Gender              1293 non-null   object \n",
      " 4   Weight              1293 non-null   float64\n",
      " 5   Symptom_1           1293 non-null   object \n",
      " 6   Symptom_2           1293 non-null   object \n",
      " 7   Symptom_3           1293 non-null   object \n",
      " 8   Symptom_4           1293 non-null   object \n",
      " 9   Duration            1293 non-null   object \n",
      " 10  Appetite_Loss       1293 non-null   object \n",
      " 11  Vomiting            1293 non-null   object \n",
      " 12  Diarrhea            1293 non-null   object \n",
      " 13  Coughing            1293 non-null   object \n",
      " 14  Labored_Breathing   1293 non-null   object \n",
      " 15  Lameness            1293 non-null   object \n",
      " 16  Skin_Lesions        1293 non-null   object \n",
      " 17  Nasal_Discharge     1293 non-null   object \n",
      " 18  Eye_Discharge       1293 non-null   object \n",
      " 19  Body_Temperature    1293 non-null   object \n",
      " 20  Heart_Rate          1293 non-null   int64  \n",
      " 21  Disease_Prediction  1293 non-null   object \n",
      "dtypes: float64(2), int64(1), object(19)\n",
      "memory usage: 222.4+ KB\n"
     ]
    }
   ],
   "source": [
    "# Analisis general\n",
    "df_augmented.info()"
   ]
  },
  {
   "cell_type": "code",
   "execution_count": null,
   "id": "9a4db2a2",
   "metadata": {},
   "outputs": [
    {
     "data": {
      "text/html": [
       "<div>\n",
       "<style scoped>\n",
       "    .dataframe tbody tr th:only-of-type {\n",
       "        vertical-align: middle;\n",
       "    }\n",
       "\n",
       "    .dataframe tbody tr th {\n",
       "        vertical-align: top;\n",
       "    }\n",
       "\n",
       "    .dataframe thead th {\n",
       "        text-align: right;\n",
       "    }\n",
       "</style>\n",
       "<table border=\"1\" class=\"dataframe\">\n",
       "  <thead>\n",
       "    <tr style=\"text-align: right;\">\n",
       "      <th></th>\n",
       "      <th>Age</th>\n",
       "      <th>Weight</th>\n",
       "      <th>Heart_Rate</th>\n",
       "    </tr>\n",
       "  </thead>\n",
       "  <tbody>\n",
       "    <tr>\n",
       "      <th>count</th>\n",
       "      <td>1293.000000</td>\n",
       "      <td>1293.000000</td>\n",
       "      <td>1293.000000</td>\n",
       "    </tr>\n",
       "    <tr>\n",
       "      <th>mean</th>\n",
       "      <td>5.045350</td>\n",
       "      <td>214.740040</td>\n",
       "      <td>105.252900</td>\n",
       "    </tr>\n",
       "    <tr>\n",
       "      <th>std</th>\n",
       "      <td>2.570840</td>\n",
       "      <td>260.183193</td>\n",
       "      <td>28.033984</td>\n",
       "    </tr>\n",
       "    <tr>\n",
       "      <th>min</th>\n",
       "      <td>0.534230</td>\n",
       "      <td>0.957429</td>\n",
       "      <td>66.000000</td>\n",
       "    </tr>\n",
       "    <tr>\n",
       "      <th>25%</th>\n",
       "      <td>3.168658</td>\n",
       "      <td>7.936874</td>\n",
       "      <td>80.000000</td>\n",
       "    </tr>\n",
       "    <tr>\n",
       "      <th>50%</th>\n",
       "      <td>4.860311</td>\n",
       "      <td>81.671570</td>\n",
       "      <td>92.000000</td>\n",
       "    </tr>\n",
       "    <tr>\n",
       "      <th>75%</th>\n",
       "      <td>6.081459</td>\n",
       "      <td>510.391399</td>\n",
       "      <td>130.000000</td>\n",
       "    </tr>\n",
       "    <tr>\n",
       "      <th>max</th>\n",
       "      <td>16.150762</td>\n",
       "      <td>860.246300</td>\n",
       "      <td>167.000000</td>\n",
       "    </tr>\n",
       "  </tbody>\n",
       "</table>\n",
       "</div>"
      ],
      "text/plain": [
       "               Age       Weight   Heart_Rate\n",
       "count  1293.000000  1293.000000  1293.000000\n",
       "mean      5.045350   214.740040   105.252900\n",
       "std       2.570840   260.183193    28.033984\n",
       "min       0.534230     0.957429    66.000000\n",
       "25%       3.168658     7.936874    80.000000\n",
       "50%       4.860311    81.671570    92.000000\n",
       "75%       6.081459   510.391399   130.000000\n",
       "max      16.150762   860.246300   167.000000"
      ]
     },
     "execution_count": 6,
     "metadata": {},
     "output_type": "execute_result"
    }
   ],
   "source": [
    "df_augmented.describe()"
   ]
  },
  {
   "cell_type": "code",
   "execution_count": 7,
   "id": "721b8b45",
   "metadata": {},
   "outputs": [
    {
     "data": {
      "text/plain": [
       "Animal_Type           0\n",
       "Breed                 0\n",
       "Age                   0\n",
       "Gender                0\n",
       "Weight                0\n",
       "Symptom_1             0\n",
       "Symptom_2             0\n",
       "Symptom_3             0\n",
       "Symptom_4             0\n",
       "Duration              0\n",
       "Appetite_Loss         0\n",
       "Vomiting              0\n",
       "Diarrhea              0\n",
       "Coughing              0\n",
       "Labored_Breathing     0\n",
       "Lameness              0\n",
       "Skin_Lesions          0\n",
       "Nasal_Discharge       0\n",
       "Eye_Discharge         0\n",
       "Body_Temperature      0\n",
       "Heart_Rate            0\n",
       "Disease_Prediction    0\n",
       "dtype: int64"
      ]
     },
     "execution_count": 7,
     "metadata": {},
     "output_type": "execute_result"
    }
   ],
   "source": [
    "df_augmented.isnull().sum()"
   ]
  },
  {
   "cell_type": "code",
   "execution_count": null,
   "id": "ade31e73",
   "metadata": {},
   "outputs": [],
   "source": [
    "# Correcion de formatos\n",
    "df_augmented['Body_Temperature'] = df_augmented['Body_Temperature'].str.replace('°C','').astype(float)\n",
    "\n",
    "df_augmented['Duration_days'] = df_augmented['Duration'].apply(lambda x: int(x.split()[0]) * (7 if 'week' in x else 1))\n",
    "df_augmented = df_augmented.drop('Duration', axis=1)\n",
    "\n",
    "\n",
    "df_augmented['Age'] = df_augmented['Age'].astype(int)\n",
    "\n",
    "df_augmented['Weight'] = df_augmented['Weight'].round(1)\n"
   ]
  },
  {
   "cell_type": "code",
   "execution_count": null,
   "id": "f9d4ebc0",
   "metadata": {},
   "outputs": [],
   "source": [
    "# Transformacion de variables\n",
    "yes_no_cols = ['Appetite_Loss','Vomiting','Diarrhea','Coughing','Labored_Breathing',\n",
    "               'Lameness','Skin_Lesions','Nasal_Discharge','Eye_Discharge']\n",
    "for col in yes_no_cols:\n",
    "    df_augmented[col] = df_augmented[col].map({'Yes':1, 'No':0})\n",
    "\n"
   ]
  },
  {
   "cell_type": "code",
   "execution_count": null,
   "id": "502e19b3",
   "metadata": {},
   "outputs": [
    {
     "data": {
      "application/vnd.plotly.v1+json": {
       "config": {
        "plotlyServerURL": "https://plot.ly"
       },
       "data": [
        {
         "marker": {
          "color": "#636EFA"
         },
         "name": "<span style='font-size:13px'>Age</span>",
         "showlegend": true,
         "type": "box",
         "xaxis": "x",
         "y": {
          "bdata": "BAIDAQUGAwIFBAMCAQgFBAMGCgUDBwIDBQQCCQEGAwUGCQQCCAYDBwQEAwoGBQIMAwgFDwcJBAsCAwYHBQMFCgQHCQ4GCwgGBAoHBQMNCAcCDgUEBQwDCQQQBggGCgMGBwsFCAQFBw8GAwQFAgQGDAgCAwQDBQgOBwUGAwcFCQYEBQcCCAQNCQMGAwQGBQsHAggFAwcEDwgBBQMHBgIEBQMGBAkFAQYDBQQFDAcDBQYDBQQGBQIEAwkFAgQFAwYDCAcBBgIGBwQFBgIDBQQFBggEBAMHBQIFBgQDBQgEAQUGBAUDBgMBBAUDBwYGAwMFBwQCBgQFBAMIBQMEBgQDAgYEAgUFBAUDCQYDBAUGBAcHBQQEBgMGBQUEAwMEBQQGBgcECggDBQYEBQMHBgIEBwUEBQYHAgQIBgMECAUDBAUIAgYEAwQDCAcBBQcFAwQGBgIGBwQFBwgBBAIDBAIJBQIGBQYCBQcGAQcGBAMEBQMGAgMGBAIHAwUCBgcIAQYEBgIEBQMDBAMEAwUCBAMEAwMFBgIEAwIDAgQDAgQFBQYFBAMFBgQCAwEFBgMCBQQDAQIBBAUDAgUDAgIACAUDAgYKBQIHAQMEAwEJAQUCBQUJAwEHBgIGAwMCCgYEAgwDCAQOBwkECwIDBQcFAgQJAwcJDgUKCAUECQcFAgwIBwEOBQMEDAMIAxAFBwYJAgYHCwUIBAUHDgYCBAUBAwUMCAECAwIFBw0HBQUCBwUJBgQFBgIHAwwJAwUCAwYECwcBCAUDBgMOCAEEAwYGAgQEAgUDCQQBBQIEAwQLBgMEBQMFAwYEAQQDCQUBBAQDBgIHBwAGAgYGAwUFAgMFBAQGCAMDAwcEAQUGAwIECAQBBAYDBQMGAgAEBQIHBgUCAwUHAwEFBAUEAgcEAwQFAwICBgQCBQUDBQMJBQMDBQUEBwcEAwQGAwYEBQMCAwMEAwYFBwQKBwIFBgMEAwcGAQMHBQQFBQcCBAgFAgMHBQMEBQcCBQMDBAIHBwEEBwQDAwYFAgUHAwQHCAEEAQMEAQgEAQYEBgEFBwUBBwYDAwMFAwUCAwYDAgYCBQIGBwgABQQGAgQEAgIDAgMCBAEEAwMCAwUFAQMCAQICBAICAwQEBgUDAgUFAwICAAUFAwEEAwMBAwAFBQICBQMCAQAIBQQDBQoEAgcCAwUDAQgABgIEBgkEAgcFAwcEBAIJBQQBCwMHBA4GCAMKAQMFBgUDBQkDBggOBQsIBgMKBwQDDQgHAQ4FAwUMAwgEDwYHBQkCBgYKBQcEBQcPBgMDBQIEBgsIAQIDAwUHDQcEBgMHBAkGAwUHAQcDDAkCBQMDBgQLBgIIBAMGAw4HAAUDBgYBBAUDBgMIBQAFAgUEBQwHAgQGAwQEBgUCBAMIBAEEBQIGAgcHAAUCBQcDBAUCAgQDBQYHAwMDBgQBBQUDAwQHBAAFBgMFAwUCAQQFAgcFBQMDBQcEAQYDBAMCCAQDBAYEAwEGBAIFBQQFAgkGAwQFBQMGBgQEAwYDBQQEAwMCBAQEBQUGBAkHAwQFBAUCBgUBBAcFAwUFBgIEBwUCBAgFAgMFCAIGBAMEAggHAAUGBAMDBgYCBQcDBQYIAAMCAgQBCAUBBgUGAgUHBQAHBgMDBAQCBQIDBgMBBwMEAgUGBwAFAwYCAwQDAwMCBAMFAQQCBAMCBAUCBAMBAwEDAgIEBAQFBQQDBQYEAgIABQYCAgUD",
          "dtype": "i1"
         },
         "yaxis": "y"
        },
        {
         "marker": {
          "color": "#EF553B"
         },
         "name": "<span style='font-size:13px'>Weight</span>",
         "showlegend": true,
         "type": "box",
         "xaxis": "x2",
         "y": {
          "bdata": "AAAAAAAAOUAAAAAAAAASQAAAAAAAwIJAAAAAAAAAJEBmZmZmZmYOQAAAAAAAQH9AAAAAAAAAPkAAAAAAAAAYQAAAAAAAADdAAAAAAAAggkAAAAAAAAAUQAAAAAAAAChAzczMzMzMEEAAAAAAAKB+QAAAAAAAUIRAAAAAAAAADEAAAAAAAAAUQAAAAAAAADxAAAAAAADghUAzMzMzMzMTQAAAAAAAcIJAAAAAAAAgfEAAAAAAAAAgQAAAAAAAABZAAAAAAADghUAAAAAAAAA+QAAAAAAAABJAAAAAAAAAfkAAAAAAAAAIQAAAAAAAABhAAAAAAABQhEAAAAAAAAA+QAAAAAAAAB5AAAAAAABAf0AAAAAAACCCQAAAAAAAACJAZmZmZmZmEkAAAAAAAECAQAAAAAAAYINAAAAAAAAAFkCamZmZmZkJQAAAAAAAADxAAAAAAAAAFkAAAAAAACB8QAAAAAAAwIJAAAAAAAAANkAAAAAAAAAQQAAAAAAAQH9AAAAAAADQgUAAAAAAAAAuQAAAAAAAABJAAAAAAADAgkAAAAAAAGCDQAAAAAAAADlAAAAAAAAAFEAAAAAAAECAQAAAAAAAMIFAAAAAAAAAMUDNzMzMzMwQQAAAAAAA4IBAAAAAAABgg0AAAAAAAAAEQAAAAAAAAAhAAAAAAABAhUAAAAAAAHCCQAAAAAAAACBAAAAAAAAAGkAAAAAAAECAQAAAAAAAwIJAAAAAAACAQUAAAAAAAAAUQAAAAAAAAD5AMzMzMzMzE0AAAAAAAOB/QAAAAAAAcIJAAAAAAAAAJEDNzMzMzMwQQAAAAAAAoH5AAAAAAACwg0AAAAAAAIBBQAAAAAAAABZAAAAAAABAgEAAAAAAAMCCQAAAAAAAABxAmpmZmZmZDUAAAAAAAMCCQAAAAAAA0IFAAAAAAAAAAEBmZmZmZmYKQAAAAAAAkIBAAAAAAABgg0AAAAAAAAA0QAAAAAAAABBAAAAAAAAgfEAAAAAAACCCQAAAAAAAgEFAmpmZmZmZEUAAAAAAAJCAQAAAAAAAEINAAAAAAAAAO0AAAAAAAAASQAAAAAAAAEBAZmZmZmZmEEAAAAAAAAB+QAAAAAAAYINAzczMzMzM/D8AAAAAAMBSQAAAAAAAAFFAAAAAAACAW0AAAAAAAAAiQM3MzMzMzBBAAAAAAADAgkAAAAAAACCCQJqZmZmZmfk/AAAAAAAAVEAAAAAAAABSQAAAAAAAwFxAAAAAAAAAJkAAAAAAAAASQAAAAAAAQH9AAAAAAABwgkAzMzMzMzMbQAAAAAAAQFBAAAAAAACAUUAAAAAAAAAuQM3MzMzMzBRAAAAAAADAfEAAAAAAANCBQM3MzMzMzABAAAAAAABAVUAAAAAAAEBQQAAAAAAAwFxAAAAAAAAAIEAzMzMzMzMRQAAAAAAAUIRAAAAAAADAgkBmZmZmZmb+PwAAAAAAgFNAAAAAAADAUkAAAAAAAABeQAAAAAAAACpAzczMzMzMEkAAAAAAAMByQAAAAAAAUIRAZmZmZmZm9j8AAAAAAMBXQAAAAAAAAFJAAAAAAACAW0AAAAAAAAA+QM3MzMzMzBRAAAAAAADghUAAAAAAACCCQDMzMzMzM/M/AAAAAAAARUAAAAAAAAAWQAAAAAAAAH5AAAAAAAAwgUCamZmZmZn5PwAAAAAAQFVAAAAAAAAAUkAAAAAAAABZQAAAAAAAAERAzczMzMzMEEAAAAAAAJCAQAAAAAAAYINAMzMzMzMz8z8AAAAAAIBWQAAAAAAAgFFAAAAAAAAAXkAAAAAAAIBBQAAAAAAAABRAAAAAAAAwgUAAAAAAACCCQM3MzMzMzPQ/AAAAAACAVkAAAAAAAABOQAAAAAAAQFpAAAAAAAAANEAzMzMzMzMTQAAAAAAAQH9AAAAAAABAf0AAAAAAAAD4PwAAAAAAgEZAAAAAAAAAHkAAAAAAAJCKQAAAAAAAYINAzczMzMzM9D8AAAAAAIBRQAAAAAAAQFBAAAAAAAAAWUAAAAAAAAA5QDMzMzMzMxNAAAAAAADAckAAAAAAAHCCQJqZmZmZmfE/AAAAAADAV0AAAAAAAIBLQAAAAAAAwFxAAAAAAACAQEAzMzMzMzMRQAAAAAAAAHlAAAAAAABgg0AzMzMzMzPzPwAAAAAAwFJAAAAAAAAATkAAAAAAAMBXQAAAAAAAADJAAAAAAAAAFkAAAAAAADCBQAAAAAAAsINAAAAAAAAALkAAAAAAAAAUQAAAAAAAQH9AAAAAAACAgUAzMzMzMzPzPwAAAAAAgFZAAAAAAACAUUAAAAAAAEBaQAAAAAAAABhAzczMzMzMEkAAAAAAADCBQAAAAAAAUIRAAAAAAAAA8D8AAAAAAABUQAAAAAAAAE5AAAAAAAAAWUAAAAAAAABEQGZmZmZmZhJAAAAAAADAgkAAAAAAACB8QAAAAAAAAPA/AAAAAADAV0AAAAAAAABSQAAAAAAAQFpAAAAAAAAAPkDNzMzMzMwQQAAAAAAAUIRAAAAAAADghUAAAAAAAAA0QAAAAAAAACFAAAAAAACQikAAAAAAAOCFQM3MzMzMzPw/AAAAAAAAVEAAAAAAAABSQAAAAAAAgFtAAAAAAAAAQEAAAAAAAAAUQAAAAAAAMIFAAAAAAAAgfEBmZmZmZmb2PwAAAAAAwFdAAAAAAADAUkAAAAAAAABeQAAAAAAAADlAAAAAAAAAGEAAAAAAAFCEQAAAAAAAQIVAmpmZmZmZ8T8AAAAAAIBWQAAAAAAAAFRAAAAAAABAYEAAAAAAAAA5QAAAAAAAABhAAAAAAAAwgUAAAAAAAEB/QAAAAAAAAABAAAAAAADAV0AAAAAAAEBVQAAAAAAAAF5AAAAAAAAAFEBmZmZmZmYkQAAAAAAAAIlAAAAAAACAhkCamZmZmZn5PwAAAAAAQFVAAAAAAADAV0AAAAAAAIBbQAAAAAAAAD5AAAAAAAAAEkAAAAAAADCBQAAAAAAAUIRAAAAAAAAAAEAAAAAAAMBSQAAAAAAAgFZAAAAAAABAYEAAAAAAAAAgQAAAAAAAACRAAAAAAAAwgUAAAAAAAIBBQAAAAAAAABxAAAAAAABwh0AAAAAAAFCEQM3MzMzMzPw/AAAAAACAVkAAAAAAAABZQAAAAAAAAF5AAAAAAAAAREAAAAAAAAAgQAAAAAAAIHxAAAAAAAAwgUBmZmZmZmb+PwAAAAAAgFtAAAAAAAAAXkAAAAAAAMBiQAAAAAAAADlAAAAAAAAAJkAAAAAAAMCCQAAAAAAAMIFAAAAAAAAA+D8AAAAAAMBXQAAAAAAAgFtAAAAAAABAYEAAAAAAAAAYQAAAAAAAAB5AAAAAAADghUAAAAAAAMCCQAAAAAAAADxAAAAAAAAAJEAAAAAAADCBQAAAAAAA4IVAAAAAAAAA+D8AAAAAAMBXQAAAAAAAgFZAAAAAAAAAXkAAAAAAAAA0QAAAAAAAABxAAAAAAAAAiUAAAAAAAFCEQM3MzMzMzPQ/AAAAAACAW0AAAAAAAABZQAAAAAAAQGBAAAAAAAAAKEAAAAAAAAAkQAAAAAAAQH9AAAAAAAAwgUDNzMzMzMz8PwAAAAAAgFZAAAAAAAAAXkAAAAAAAMBiQAAAAAAAADZAAAAAAAAwgUAAAAAAAHCHQAAAAAAAAABAAAAAAABAVUAAAAAAAEBVQAAAAAAA4GBAAAAAAAAAIEAAAAAAAAAYQAAAAAAAwIJAAAAAAABQhEAAAAAAAAD4PwAAAAAAAF5AAAAAAADAUkAAAAAAAIBhQAAAAAAAACRAAAAAAAAAIEAAAAAAAOCFQAAAAAAAUIRAMzMzMzMz8z8AAAAAAIBWQAAAAAAAgFtAAAAAAAAAXkAAAAAAAAA+QAAAAAAAABxAAAAAAAAwgUAAAAAAAMCCQAAAAAAAAF5AAAAAAAAAVEAAAAAAAABkQAAAAAAA4IVAAAAAAABQhECamZmZmZn5PwAAAAAAQGBAAAAAAADAUkAAAAAAAIBhQAAAAAAAABhAAAAAAAAAIkAAAAAAADCBQAAAAAAAcIdAZmZmZmZm9j8AAAAAAEBfQAAAAAAAAFRAAAAAAABAYEAAAAAAAAAkQAAAAAAAABxAAAAAAABAhUAAAAAAAOCFQAAAAAAAIIJAAAAAAABAX0AAAAAAAMBSQAAAAAAAQGBAAAAAAACAW0AAAAAAAEBVQAAAAAAAAF5AAAAAAABQhEAAAAAAAOCFQAAAAAAAgFFAAAAAAADAYkAAAAAAAAA+QAAAAAAAACBAAAAAAABQhEAAAAAAADCBQAAAAAAA4IVAAAAAAACAW0AAAAAAAIBRQAAAAAAAQGBAAAAAAABAf0AAAAAAAABeQAAAAAAAwFJAAAAAAAAAXkAAAAAAAABUQAAAAAAAIGJAAAAAAADAYkAAAAAAAEBgQAAAAAAAgEFAAAAAAAAAPkAAAAAAAAAUQAAAAAAAIHxAAAAAAADghUAAAAAAAAA5QAAAAAAAABJAAAAAAADAgkAAAAAAAAAkQGZmZmZmZg5AAAAAAABAf0AAAAAAAAA+QAAAAAAAABhAAAAAAAAAN0AAAAAAACCCQM3MzMzMTDhAzczMzMzMEkCamZmZmd2CQAAAAAAAACRAMzMzMzMzD0AzMzMzMyN+QJqZmZmZGT1AZmZmZmZmGEBmZmZmZuY1QM3MzMzMUIJAMzMzMzMzE0BmZmZmZmYnQAAAAAAAABBAMzMzMzNjfkDNzMzMzOyEQDMzMzMzMwtAmpmZmZmZE0CamZmZmZk6QGZmZmZm5oVAzczMzMzMEkAAAAAAADSDQM3MzMzMZHtAMzMzMzMzH0CamZmZmZkVQAAAAAAAGIVAmpmZmZkZPkBmZmZmZmYSQJqZmZmZiXxAzczMzMzMCEAAAAAAAAAYQDMzMzMzB4VAmpmZmZkZPUBmZmZmZmYeQJqZmZmZ+X5AAAAAAAC0gUCamZmZmZkiQJqZmZmZmRFAZmZmZmaegECamZmZmX2DQJqZmZmZmRVAzczMzMzMCEBmZmZmZmY8QJqZmZmZmRVAmpmZmZm5fEAAAAAAABCCQJqZmZmZmTZAZmZmZmZmEEDNzMzMzBx+QDMzMzMzu4FAZmZmZmZmL0BmZmZmZmYSQDMzMzMzL4NAzczMzMxIg0DNzMzMzMw3QM3MzMzMzBRAAAAAAADkgECamZmZmfmBQGZmZmZm5jBAAAAAAAAAEEDNzMzMzIiAQAAAAAAAvINAMzMzMzMzA0AAAAAAAAAIQDMzMzMzf4VAmpmZmZlxgkCamZmZmZkgQAAAAAAAABpAmpmZmZlZgEBmZmZmZkKCQJqZmZmZ2UFAmpmZmZmZE0BmZmZmZuY8QGZmZmZmZhJAzczMzMwsf0CamZmZmfGCQGZmZmZmZiRAzczMzMzMEEBmZmZmZhKAQM3MzMzM2IJAmpmZmZkZQUDNzMzMzMwWQDMzMzMzA39AzczMzMzIgkDNzMzMzMwcQDMzMzMzMw9AZmZmZmb+gUAzMzMzM7eBQAAAAAAAAABAZmZmZmZmCkAAAAAAADSBQM3MzMzMiINAzczMzMxMNEAzMzMzMzMPQJqZmZmZKX1AZmZmZmbGgkBmZmZmZuZAQJqZmZmZmRFAzczMzMzsf0AAAAAAAJSDQDMzMzMzsztAAAAAAAAAEkAAAAAAAEBAQM3MzMzMzBBAZmZmZmbGfECamZmZmRWEQM3MzMzMzPw/mpmZmZkZUkAAAAAAAGBRQGZmZmZmplpAZmZmZmZmIUDNzMzMzMwQQAAAAAAAFINAMzMzMzPLgUCamZmZmZn5PwAAAAAA4FRAAAAAAABgUUCamZmZmXlcQM3MzMzMzCVAzczMzMzMEkAAAAAAAPh/QJqZmZmZ4YJAzczMzMzMGkBmZmZmZmZPQAAAAAAAIFFAZmZmZmZmLUCamZmZmZkVQGZmZmZmfntAAAAAAABQgUCamZmZmZkBQGZmZmZmZlRAAAAAAAAAUUBmZmZmZkZcQJqZmZmZmSBAZmZmZmZmEECamZmZmUmFQGZmZmZm/oFAzczMzMzM/D8AAAAAACBTQDMzMzMzk1NAmpmZmZn5XkDNzMzMzMwoQM3MzMzMzBJAZmZmZmYmc0AAAAAAAACEQGZmZmZmZvY/AAAAAADgWEAAAAAAAGBRQDMzMzMzM1pAzczMzMxMP0DNzMzMzMwUQM3MzMzMFIZAAAAAAABsgkAzMzMzMzPzPzMzMzMz80VAAAAAAAAAFkAAAAAAAAh+QAAAAAAA2IFAmpmZmZmZ+T/NzMzMzKxUQJqZmZmZWVFAzczMzMzsWEDNzMzMzMxEQM3MzMzMzBBAmpmZmZktgUAAAAAAAOyDQDMzMzMzM/M/zczMzMwsV0CamZmZmZlRQDMzMzMzs1xAzczMzMxMQUAAAAAAAAAUQAAAAAAAgIFAZmZmZmYSgkDNzMzMzMz0P2ZmZmZm5lVAZmZmZmbmTkCamZmZmRlZQAAAAAAAADRAzczMzMzMEkBmZmZmZiZ+QAAAAAAA8H5AAAAAAAAA+D9mZmZmZmZHQM3MzMzMzBxAmpmZmZlhikAzMzMzMweDQM3MzMzMzPQ/mpmZmZlZUUBmZmZmZuZPQGZmZmZmBlhAmpmZmZkZOEAzMzMzMzMTQDMzMzMz63FAZmZmZma+gUAAAAAAAADwPwAAAAAA4FZAAAAAAABASkAAAAAAAGBcQDMzMzMz80BAMzMzMzMzEUCamZmZmYF4QM3MzMzM2IJAMzMzMzMz8z9mZmZmZmZTQGZmZmZmJk5AMzMzMzOTVkDNzMzMzEwyQGZmZmZmZhZAMzMzMzPrgUBmZmZmZuqDQGZmZmZmZi5AzczMzMzMFEAAAAAAAACAQJqZmZmZxYFAMzMzMzMz8z+amZmZmflWQM3MzMzMjFFAzczMzMxMWkAzMzMzMzMXQDMzMzMzMxNAzczMzMwIgkAAAAAAANCEQAAAAAAAAPA/zczMzMxsVEAzMzMzMzNNQGZmZmZmpllAMzMzMzPzREDNzMzMzMwSQGZmZmZmSoJAMzMzMzOze0AAAAAAAADwPwAAAAAAQFdAmpmZmZm5UkAzMzMzM1NZQDMzMzMzMz9AmpmZmZmZEUBmZmZmZpqDQGZmZmZmVoZAzczMzMxMM0DNzMzMzMwgQJqZmZmZ4YpAmpmZmZkthkDNzMzMzMz8P2ZmZmZmplRAZmZmZmZGUUAAAAAAAOBbQJqZmZmZWUBAmpmZmZmZE0BmZmZmZqqBQAAAAAAA0HxAZmZmZmZm9j8AAAAAAABXQGZmZmZm5lFAMzMzMzMzXUCamZmZmRk4QM3MzMzMzBhAmpmZmZlhg0AAAAAAAAiFQJqZmZmZmfE/zczMzMysVkAAAAAAAKBUQAAAAAAAIGBAZmZmZmbmOEAzMzMzMzMXQAAAAAAACIFAmpmZmZktgEDNzMzMzMwAQJqZmZmZOVhAmpmZmZk5VkCamZmZmVldQJqZmZmZmRNAMzMzMzMzJEAzMzMzM5OJQGZmZmZmmoZAmpmZmZmZ+T/NzMzMzMxVQAAAAAAAQFhAmpmZmZk5WkAzMzMzM7M+QAAAAAAAABJAAAAAAADMgEDNzMzMzJSEQAAAAAAAAABAMzMzMzPzUkDNzMzMzIxWQM3MzMzMbF9AmpmZmZmZIECamZmZmZkkQM3MzMzMPIFAmpmZmZmZQUAzMzMzMzMdQAAAAAAAxIdAAAAAAAD4g0AzMzMzMzP7P83MzMzMzFZAzczMzMxsWEBmZmZmZkZeQM3MzMzMzERAmpmZmZmZH0BmZmZmZiZ8QJqZmZmZPYFAZmZmZmZm/j9mZmZmZuZaQDMzMzMzE15AMzMzMzMzY0BmZmZmZmY4QAAAAAAAACZAZmZmZmaWg0AAAAAAAFyBQAAAAAAAAPg/mpmZmZkZV0AzMzMzM7NcQGZmZmZm5l5AMzMzMzMzF0BmZmZmZmYeQAAAAAAAFIVAAAAAAAAog0AAAAAAAIA8QM3MzMzMzCNAzczMzMxUgUAAAAAAALCGQAAAAAAAAPg/AAAAAADgV0CamZmZmdlVQJqZmZmZGV5AZmZmZmZmNECamZmZmZkbQAAAAAAA0IlAZmZmZmYuhEAzMzMzMzPzP83MzMzMbFpAmpmZmZnZV0AzMzMzM0NgQJqZmZmZmSdAMzMzMzMzJEDNzMzMzPx+QGZmZmZmcoBAMzMzMzMz+z8AAAAAAKBXQDMzMzMzE11AmpmZmZnZYkAzMzMzMzM2QGZmZmZmKoFAmpmZmZndhkDNzMzMzMwAQGZmZmZmxlVAzczMzMzsVUCamZmZmXlgQGZmZmZmZiBAMzMzMzMzF0BmZmZmZmKDQJqZmZmZ6YRAZmZmZmZm9j8AAAAAACBeQJqZmZmZGVNAmpmZmZkZYUBmZmZmZmYjQJqZmZmZmR9AMzMzMzOThUAAAAAAAKyEQDMzMzMzM/M/mpmZmZk5V0AzMzMzM9NcQDMzMzMzU11AZmZmZmbmPkAzMzMzMzMdQAAAAAAANIFAZmZmZmZig0AAAAAAAIBeQM3MzMzMbFRAMzMzMzNTY0BmZmZmZmKFQGZmZmZmroRAAAAAAAAA+D8AAAAAAOBfQM3MzMzMjFNAZmZmZmYGYUAAAAAAAAAYQDMzMzMzMyJAMzMzMzMLgkAAAAAAADSHQGZmZmZmZvY/zczMzMwsYEAzMzMzMxNUQJqZmZmZ+V5AAAAAAAAAJEAzMzMzMzMbQGZmZmZm2oVAMzMzMzOPhkDNzMzMzNSBQGZmZmZmxl9AZmZmZmYmUkCamZmZmZlgQGZmZmZmZltAZmZmZmZmVUCamZmZmfleQAAAAAAASIVAMzMzMzNXhUCamZmZmblQQGZmZmZm9mJAzczMzMzMPEDNzMzMzMwgQJqZmZmZsYRAMzMzMzPDgECamZmZmVGFQAAAAAAAAFxAZmZmZmbGUEAAAAAAAMBgQGZmZmZm/n1AMzMzMzMzXUCamZmZmRlTQJqZmZmZ+V5AzczMzMwMVEAzMzMzMxNiQAAAAAAA4GJAzczMzMxMX0AzMzMzM7NBQAAAAAAAgD5AAAAAAAAAFEDNzMzMzCR9QGZmZmZmvoVAZmZmZmZmOUDNzMzMzMwSQJqZmZmZgYJAmpmZmZmZI0AAAAAAAAAQQJqZmZmZ4X1AAAAAAACAPkAAAAAAAAAYQAAAAAAAADhAZmZmZmbagUCamZmZmZk4QGZmZmZmZhJAMzMzMzM3g0BmZmZmZmYkQM3MzMzMzAxAzczMzMwAgECamZmZmRk9QGZmZmZmZhhAZmZmZmbmN0AzMzMzM5+CQGZmZmZmZhRAZmZmZmZmJ0AzMzMzMzMRQDMzMzMze35AzczMzMxMg0DNzMzMzMwMQM3MzMzMzBRAMzMzMzMzO0DNzMzMzAyGQGZmZmZmZhJAZmZmZmYSgkBmZmZmZlZ9QM3MzMzMzCBAzczMzMzMFEAAAAAAAKyGQM3MzMzMTD1AmpmZmZmZEUAzMzMzM4N8QAAAAAAAAAhAzczMzMzMGEBmZmZmZrqDQJqZmZmZGT9AzczMzMzMHkDNzMzMzMR+QAAAAAAAcIJAzczMzMzMIkDNzMzMzMwSQAAAAAAABIFAZmZmZmayg0AzMzMzMzMVQM3MzMzMzAhAZmZmZmZmPEAzMzMzMzMXQAAAAAAAMH1AAAAAAAC0gkBmZmZmZuY1QGZmZmZmZg5AZmZmZmZuf0BmZmZmZm6BQJqZmZmZmSxAmpmZmZmZEUCamZmZmSGDQJqZmZmZLYNAAAAAAACAOEAAAAAAAAAUQGZmZmZmIoBAzczMzMxIgUAAAAAAAIAwQJqZmZmZmRFAzczMzMwIgUCamZmZmamCQAAAAAAAAARAMzMzMzMzB0AAAAAAALCEQGZmZmZmToJAMzMzMzMzH0AzMzMzMzMbQJqZmZmZDYFAZmZmZmb2gUAzMzMzM3NBQM3MzMzMzBRAZmZmZmZmPkDNzMzMzMwSQGZmZmZm5n9AZmZmZmYagkAAAAAAAAAjQM3MzMzMzBBAzczMzMxMfkDNzMzMzISDQDMzMzMzs0BAAAAAAAAAFkAzMzMzMyN/QAAAAAAA5IFAMzMzMzMzHUCamZmZmZkNQDMzMzMzq4NAAAAAAACQgkDNzMzMzMwAQGZmZmZmZgpAzczMzMxcgEBmZmZmZo6DQM3MzMzMTDRAZmZmZmZmEEBmZmZmZn58QJqZmZmZCYJAZmZmZmYmQUCamZmZmZkRQDMzMzMzp4BAAAAAAAAIg0DNzMzMzMw7QJqZmZmZmRFAAAAAAACAP0AAAAAAAAAQQDMzMzMzG35AAAAAAACcg0BmZmZmZmb+PwAAAAAAYFJAMzMzMzNzUECamZmZmdlbQM3MzMzMzCFAMzMzMzMzEUAzMzMzM+OCQGZmZmZm+oFAmpmZmZmZ+T+amZmZmZlUQGZmZmZmZlFAZmZmZmYGXkDNzMzMzMwmQDMzMzMzMxFAmpmZmZlVgEAAAAAAAACDQGZmZmZmZhpAMzMzMzMTUEAzMzMzM/NRQM3MzMzMzCxAZmZmZmZmFEAAAAAAAAB+QAAAAAAAEIJAmpmZmZmZAUDNzMzMzMxVQM3MzMzMTFBAZmZmZmYGXUAzMzMzMzMgQM3MzMzMzBBAMzMzMzNHhEAzMzMzM5+CQGZmZmZmZv4/mpmZmZnZUkBmZmZmZmZSQJqZmZmZOV1AzczMzMzMKUDNzMzMzMwSQJqZmZmZEXJAMzMzMzP7g0BmZmZmZmb2PzMzMzMzs1hAmpmZmZl5UkCamZmZmdlbQAAAAAAAAD5AmpmZmZmZFUAzMzMzM5uGQDMzMzMzA4JAMzMzMzMz8z8zMzMzMzNFQM3MzMzMzBZAAAAAAABgfUAAAAAAAFSBQAAAAAAAAPg/zczMzMzsVUAAAAAAACBRQGZmZmZmBllAzczMzMzMQ0BmZmZmZmYQQJqZmZmZEYBAAAAAAABAhEAzMzMzMzPzPzMzMzMzs1VAAAAAAAAgUUCamZmZmZldQGZmZmZmZkFAAAAAAAAAFEAzMzMzM0eBQAAAAAAA6IFAZmZmZmZm9j8zMzMzM/NWQM3MzMzMTE5AMzMzMzNTWUCamZmZmRkzQGZmZmZmZhJAAAAAAAC4f0AzMzMzM5N+QAAAAAAAAPg/MzMzMzMzRkDNzMzMzMwcQGZmZmZmsopAmpmZmZnJg0BmZmZmZmb2P5qZmZmZOVFAMzMzMzMzUEAAAAAAAIBYQAAAAAAAADhAzczMzMzMEkDNzMzMzOxxQM3MzMzM0IJAmpmZmZmZ8T8zMzMzM7NWQM3MzMzMjEtAAAAAAADAW0CamZmZmRlAQGZmZmZmZhBAzczMzMwseUAAAAAAAMyDQDMzMzMzM/M/MzMzMzPTUkAzMzMzM3NPQJqZmZmZ2VhAzczMzMxMMUAAAAAAAAAWQAAAAAAA9IFAmpmZmZlBhEBmZmZmZmYvQDMzMzMzMxNAzczMzMyEfkAAAAAAANiAQDMzMzMzM/M/MzMzMzPTVUAAAAAAACBSQJqZmZmZ+VpAzczMzMzMGEAzMzMzMzMTQDMzMzMzA4JAmpmZmZkphUAAAAAAAADwP83MzMzMzFNAzczMzMxMT0BmZmZmZmZYQM3MzMzMjERAMzMzMzMzE0DNzMzMzFSDQDMzMzMzy3tAAAAAAAAA8D+amZmZmdlWQAAAAAAAIFFAmpmZmZkZWUCamZmZmZk9QDMzMzMzMxFAAAAAAAAwhUDNzMzMzGyGQDMzMzMzszNAZmZmZmZmIUAzMzMzM2+KQJqZmZmZKYVAzczMzMzM/D8AAAAAAGBUQGZmZmZmZlJAmpmZmZnZW0DNzMzMzEw/QDMzMzMzMxNAMzMzMzNjgEAzMzMzMyN7QGZmZmZmZvY/mpmZmZl5V0BmZmZmZoZTQDMzMzMzU19AZmZmZmZmOEDNzMzMzMwYQM3MzMzM/IRAMzMzMzOrhUCamZmZmZnxPzMzMzMzs1VAAAAAAAAAU0DNzMzMzPxgQGZmZmZm5jdAmpmZmZmZF0AzMzMzM2OBQDMzMzMzC35AAAAAAAAAAECamZmZmdlWQAAAAAAA4FVAMzMzMzPTXUAzMzMzMzMTQJqZmZmZmSRAmpmZmZnViUDNzMzMzBCHQJqZmZmZmfk/zczMzMxsVUCamZmZmTlYQJqZmZmZeVtAAAAAAACAPEAzMzMzMzMRQM3MzMzMnIBAZmZmZmbihEBmZmZmZmb+PwAAAAAAgFJAzczMzMwMV0BmZmZmZmZfQDMzMzMzMyBAZmZmZmZmJEAAAAAAAAiCQGZmZmZm5kBAMzMzMzMzG0BmZmZmZoaHQJqZmZmZ0YNAzczMzMzM/D/NzMzMzOxWQAAAAAAAIFlAMzMzMzMTX0CamZmZmdlDQDMzMzMzMx9AZmZmZmbWekBmZmZmZvKBQGZmZmZmZv4/MzMzMzMzWkAAAAAAAGBdQGZmZmZmRmNAMzMzMzOzOECamZmZmZkmQDMzMzMz74FAAAAAAAAEgUAAAAAAAAD4PzMzMzMzs1dAMzMzMzNTXECamZmZmTlgQAAAAAAAABhAMzMzMzMzHUAzMzMzM9+GQJqZmZmZ/YJAmpmZmZkZO0BmZmZmZmYkQJqZmZmZ6YBAmpmZmZndhUCamZmZmZn5P2ZmZmZmBldAzczMzMyMVUAzMzMzM/NcQDMzMzMzMzNAMzMzMzMzG0AAAAAAANCHQJqZmZmZGYVAZmZmZmZm9j/NzMzMzKxaQJqZmZmZWVhAAAAAAADAYECamZmZmZknQAAAAAAAACRAZmZmZmZOgEAzMzMzM+OBQGZmZmZmZv4/mpmZmZm5VkAzMzMzM/NdQM3MzMzMTGJAMzMzMzMzNUCamZmZmbGBQM3MzMzMmIdAzczMzMzMAECamZmZmblUQM3MzMzMTFZAAAAAAACQYUDNzMzMzMweQM3MzMzMzBhAzczMzMz0gUBmZmZmZkqFQGZmZmZmZvY/MzMzMzPTXUAAAAAAAABSQDMzMzMzM2FAzczMzMzMI0CamZmZmZkgQDMzMzMzP4VAmpmZmZm9hEAzMzMzMzPzPwAAAAAAwFZAzczMzMysWkBmZmZmZuZcQGZmZmZmZj5AAAAAAAAAHECamZmZma2AQGZmZmZmRoNAmpmZmZkZXkCamZmZmVlTQJqZmZmZ+WRAmpmZmZkhhkAAAAAAAEyEQDMzMzMzM/s/ZmZmZmbGX0AAAAAAAEBTQAAAAAAAoGFAzczMzMzMGEAzMzMzMzMhQGZmZmZmroBAZmZmZmZuh0AAAAAAAAD4P83MzMzMTF5AmpmZmZmZU0AzMzMzM5NfQAAAAAAAACRAMzMzMzMzG0AzMzMzM8uEQJqZmZmZaYZAAAAAAACkgUAzMzMzM/NfQAAAAAAAoFNAzczMzMwMYUCamZmZmVlaQAAAAAAAwFVAAAAAAABAXUDNzMzMzNSEQGZmZmZmHoVAzczMzMwsUUAzMzMzM1NiQGZmZmZmZj1AzczMzMzMHkBmZmZmZkqFQAAAAAAA4IBAAAAAAACwhUCamZmZmXlaQM3MzMzMDFFAMzMzMzOTX0DNzMzMzLx+QAAAAAAAIF5AMzMzMzPTUUCamZmZmdlcQM3MzMzMjFNAmpmZmZnpYkAzMzMzM2NjQGZmZmZmJl9AzczMzMxMQUAzMzMzM7M+QM3MzMzMzBRAmpmZmZkpfECamZmZmU2GQJqZmZmZGThAMzMzMzMzEUAzMzMzMyOCQGZmZmZmZiRAZmZmZmZmDkAAAAAAAMh/QAAAAAAAgDxAZmZmZmZmGEBmZmZmZmY3QJqZmZmZQYJA",
          "dtype": "f8"
         },
         "yaxis": "y2"
        },
        {
         "marker": {
          "color": "#00CC96"
         },
         "name": "<span style='font-size:13px'>Body_Temperature</span>",
         "showlegend": true,
         "type": "box",
         "xaxis": "x3",
         "y": {
          "bdata": "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",
          "dtype": "f8"
         },
         "yaxis": "y3"
        },
        {
         "marker": {
          "color": "#AB63FA"
         },
         "name": "<span style='font-size:13px'>Heart_Rate</span>",
         "showlegend": true,
         "type": "box",
         "xaxis": "x4",
         "y": {
          "bdata": "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",
          "dtype": "i2"
         },
         "yaxis": "y4"
        }
       ],
       "layout": {
        "height": 400,
        "margin": {
         "b": 50,
         "l": 50,
         "r": 50,
         "t": 50
        },
        "paper_bgcolor": "rgba(0,0,0,0)",
        "plot_bgcolor": "rgba(0,0,0,0)",
        "template": {
         "data": {
          "bar": [
           {
            "error_x": {
             "color": "#2a3f5f"
            },
            "error_y": {
             "color": "#2a3f5f"
            },
            "marker": {
             "line": {
              "color": "#E5ECF6",
              "width": 0.5
             },
             "pattern": {
              "fillmode": "overlay",
              "size": 10,
              "solidity": 0.2
             }
            },
            "type": "bar"
           }
          ],
          "barpolar": [
           {
            "marker": {
             "line": {
              "color": "#E5ECF6",
              "width": 0.5
             },
             "pattern": {
              "fillmode": "overlay",
              "size": 10,
              "solidity": 0.2
             }
            },
            "type": "barpolar"
           }
          ],
          "carpet": [
           {
            "aaxis": {
             "endlinecolor": "#2a3f5f",
             "gridcolor": "white",
             "linecolor": "white",
             "minorgridcolor": "white",
             "startlinecolor": "#2a3f5f"
            },
            "baxis": {
             "endlinecolor": "#2a3f5f",
             "gridcolor": "white",
             "linecolor": "white",
             "minorgridcolor": "white",
             "startlinecolor": "#2a3f5f"
            },
            "type": "carpet"
           }
          ],
          "choropleth": [
           {
            "colorbar": {
             "outlinewidth": 0,
             "ticks": ""
            },
            "type": "choropleth"
           }
          ],
          "contour": [
           {
            "colorbar": {
             "outlinewidth": 0,
             "ticks": ""
            },
            "colorscale": [
             [
              0,
              "#0d0887"
             ],
             [
              0.1111111111111111,
              "#46039f"
             ],
             [
              0.2222222222222222,
              "#7201a8"
             ],
             [
              0.3333333333333333,
              "#9c179e"
             ],
             [
              0.4444444444444444,
              "#bd3786"
             ],
             [
              0.5555555555555556,
              "#d8576b"
             ],
             [
              0.6666666666666666,
              "#ed7953"
             ],
             [
              0.7777777777777778,
              "#fb9f3a"
             ],
             [
              0.8888888888888888,
              "#fdca26"
             ],
             [
              1,
              "#f0f921"
             ]
            ],
            "type": "contour"
           }
          ],
          "contourcarpet": [
           {
            "colorbar": {
             "outlinewidth": 0,
             "ticks": ""
            },
            "type": "contourcarpet"
           }
          ],
          "heatmap": [
           {
            "colorbar": {
             "outlinewidth": 0,
             "ticks": ""
            },
            "colorscale": [
             [
              0,
              "#0d0887"
             ],
             [
              0.1111111111111111,
              "#46039f"
             ],
             [
              0.2222222222222222,
              "#7201a8"
             ],
             [
              0.3333333333333333,
              "#9c179e"
             ],
             [
              0.4444444444444444,
              "#bd3786"
             ],
             [
              0.5555555555555556,
              "#d8576b"
             ],
             [
              0.6666666666666666,
              "#ed7953"
             ],
             [
              0.7777777777777778,
              "#fb9f3a"
             ],
             [
              0.8888888888888888,
              "#fdca26"
             ],
             [
              1,
              "#f0f921"
             ]
            ],
            "type": "heatmap"
           }
          ],
          "histogram": [
           {
            "marker": {
             "pattern": {
              "fillmode": "overlay",
              "size": 10,
              "solidity": 0.2
             }
            },
            "type": "histogram"
           }
          ],
          "histogram2d": [
           {
            "colorbar": {
             "outlinewidth": 0,
             "ticks": ""
            },
            "colorscale": [
             [
              0,
              "#0d0887"
             ],
             [
              0.1111111111111111,
              "#46039f"
             ],
             [
              0.2222222222222222,
              "#7201a8"
             ],
             [
              0.3333333333333333,
              "#9c179e"
             ],
             [
              0.4444444444444444,
              "#bd3786"
             ],
             [
              0.5555555555555556,
              "#d8576b"
             ],
             [
              0.6666666666666666,
              "#ed7953"
             ],
             [
              0.7777777777777778,
              "#fb9f3a"
             ],
             [
              0.8888888888888888,
              "#fdca26"
             ],
             [
              1,
              "#f0f921"
             ]
            ],
            "type": "histogram2d"
           }
          ],
          "histogram2dcontour": [
           {
            "colorbar": {
             "outlinewidth": 0,
             "ticks": ""
            },
            "colorscale": [
             [
              0,
              "#0d0887"
             ],
             [
              0.1111111111111111,
              "#46039f"
             ],
             [
              0.2222222222222222,
              "#7201a8"
             ],
             [
              0.3333333333333333,
              "#9c179e"
             ],
             [
              0.4444444444444444,
              "#bd3786"
             ],
             [
              0.5555555555555556,
              "#d8576b"
             ],
             [
              0.6666666666666666,
              "#ed7953"
             ],
             [
              0.7777777777777778,
              "#fb9f3a"
             ],
             [
              0.8888888888888888,
              "#fdca26"
             ],
             [
              1,
              "#f0f921"
             ]
            ],
            "type": "histogram2dcontour"
           }
          ],
          "mesh3d": [
           {
            "colorbar": {
             "outlinewidth": 0,
             "ticks": ""
            },
            "type": "mesh3d"
           }
          ],
          "parcoords": [
           {
            "line": {
             "colorbar": {
              "outlinewidth": 0,
              "ticks": ""
             }
            },
            "type": "parcoords"
           }
          ],
          "pie": [
           {
            "automargin": true,
            "type": "pie"
           }
          ],
          "scatter": [
           {
            "fillpattern": {
             "fillmode": "overlay",
             "size": 10,
             "solidity": 0.2
            },
            "type": "scatter"
           }
          ],
          "scatter3d": [
           {
            "line": {
             "colorbar": {
              "outlinewidth": 0,
              "ticks": ""
             }
            },
            "marker": {
             "colorbar": {
              "outlinewidth": 0,
              "ticks": ""
             }
            },
            "type": "scatter3d"
           }
          ],
          "scattercarpet": [
           {
            "marker": {
             "colorbar": {
              "outlinewidth": 0,
              "ticks": ""
             }
            },
            "type": "scattercarpet"
           }
          ],
          "scattergeo": [
           {
            "marker": {
             "colorbar": {
              "outlinewidth": 0,
              "ticks": ""
             }
            },
            "type": "scattergeo"
           }
          ],
          "scattergl": [
           {
            "marker": {
             "colorbar": {
              "outlinewidth": 0,
              "ticks": ""
             }
            },
            "type": "scattergl"
           }
          ],
          "scattermap": [
           {
            "marker": {
             "colorbar": {
              "outlinewidth": 0,
              "ticks": ""
             }
            },
            "type": "scattermap"
           }
          ],
          "scattermapbox": [
           {
            "marker": {
             "colorbar": {
              "outlinewidth": 0,
              "ticks": ""
             }
            },
            "type": "scattermapbox"
           }
          ],
          "scatterpolar": [
           {
            "marker": {
             "colorbar": {
              "outlinewidth": 0,
              "ticks": ""
             }
            },
            "type": "scatterpolar"
           }
          ],
          "scatterpolargl": [
           {
            "marker": {
             "colorbar": {
              "outlinewidth": 0,
              "ticks": ""
             }
            },
            "type": "scatterpolargl"
           }
          ],
          "scatterternary": [
           {
            "marker": {
             "colorbar": {
              "outlinewidth": 0,
              "ticks": ""
             }
            },
            "type": "scatterternary"
           }
          ],
          "surface": [
           {
            "colorbar": {
             "outlinewidth": 0,
             "ticks": ""
            },
            "colorscale": [
             [
              0,
              "#0d0887"
             ],
             [
              0.1111111111111111,
              "#46039f"
             ],
             [
              0.2222222222222222,
              "#7201a8"
             ],
             [
              0.3333333333333333,
              "#9c179e"
             ],
             [
              0.4444444444444444,
              "#bd3786"
             ],
             [
              0.5555555555555556,
              "#d8576b"
             ],
             [
              0.6666666666666666,
              "#ed7953"
             ],
             [
              0.7777777777777778,
              "#fb9f3a"
             ],
             [
              0.8888888888888888,
              "#fdca26"
             ],
             [
              1,
              "#f0f921"
             ]
            ],
            "type": "surface"
           }
          ],
          "table": [
           {
            "cells": {
             "fill": {
              "color": "#EBF0F8"
             },
             "line": {
              "color": "white"
             }
            },
            "header": {
             "fill": {
              "color": "#C8D4E3"
             },
             "line": {
              "color": "white"
             }
            },
            "type": "table"
           }
          ]
         },
         "layout": {
          "annotationdefaults": {
           "arrowcolor": "#2a3f5f",
           "arrowhead": 0,
           "arrowwidth": 1
          },
          "autotypenumbers": "strict",
          "coloraxis": {
           "colorbar": {
            "outlinewidth": 0,
            "ticks": ""
           }
          },
          "colorscale": {
           "diverging": [
            [
             0,
             "#8e0152"
            ],
            [
             0.1,
             "#c51b7d"
            ],
            [
             0.2,
             "#de77ae"
            ],
            [
             0.3,
             "#f1b6da"
            ],
            [
             0.4,
             "#fde0ef"
            ],
            [
             0.5,
             "#f7f7f7"
            ],
            [
             0.6,
             "#e6f5d0"
            ],
            [
             0.7,
             "#b8e186"
            ],
            [
             0.8,
             "#7fbc41"
            ],
            [
             0.9,
             "#4d9221"
            ],
            [
             1,
             "#276419"
            ]
           ],
           "sequential": [
            [
             0,
             "#0d0887"
            ],
            [
             0.1111111111111111,
             "#46039f"
            ],
            [
             0.2222222222222222,
             "#7201a8"
            ],
            [
             0.3333333333333333,
             "#9c179e"
            ],
            [
             0.4444444444444444,
             "#bd3786"
            ],
            [
             0.5555555555555556,
             "#d8576b"
            ],
            [
             0.6666666666666666,
             "#ed7953"
            ],
            [
             0.7777777777777778,
             "#fb9f3a"
            ],
            [
             0.8888888888888888,
             "#fdca26"
            ],
            [
             1,
             "#f0f921"
            ]
           ],
           "sequentialminus": [
            [
             0,
             "#0d0887"
            ],
            [
             0.1111111111111111,
             "#46039f"
            ],
            [
             0.2222222222222222,
             "#7201a8"
            ],
            [
             0.3333333333333333,
             "#9c179e"
            ],
            [
             0.4444444444444444,
             "#bd3786"
            ],
            [
             0.5555555555555556,
             "#d8576b"
            ],
            [
             0.6666666666666666,
             "#ed7953"
            ],
            [
             0.7777777777777778,
             "#fb9f3a"
            ],
            [
             0.8888888888888888,
             "#fdca26"
            ],
            [
             1,
             "#f0f921"
            ]
           ]
          },
          "colorway": [
           "#636efa",
           "#EF553B",
           "#00cc96",
           "#ab63fa",
           "#FFA15A",
           "#19d3f3",
           "#FF6692",
           "#B6E880",
           "#FF97FF",
           "#FECB52"
          ],
          "font": {
           "color": "#2a3f5f"
          },
          "geo": {
           "bgcolor": "white",
           "lakecolor": "white",
           "landcolor": "#E5ECF6",
           "showlakes": true,
           "showland": true,
           "subunitcolor": "white"
          },
          "hoverlabel": {
           "align": "left"
          },
          "hovermode": "closest",
          "mapbox": {
           "style": "light"
          },
          "paper_bgcolor": "white",
          "plot_bgcolor": "#E5ECF6",
          "polar": {
           "angularaxis": {
            "gridcolor": "white",
            "linecolor": "white",
            "ticks": ""
           },
           "bgcolor": "#E5ECF6",
           "radialaxis": {
            "gridcolor": "white",
            "linecolor": "white",
            "ticks": ""
           }
          },
          "scene": {
           "xaxis": {
            "backgroundcolor": "#E5ECF6",
            "gridcolor": "white",
            "gridwidth": 2,
            "linecolor": "white",
            "showbackground": true,
            "ticks": "",
            "zerolinecolor": "white"
           },
           "yaxis": {
            "backgroundcolor": "#E5ECF6",
            "gridcolor": "white",
            "gridwidth": 2,
            "linecolor": "white",
            "showbackground": true,
            "ticks": "",
            "zerolinecolor": "white"
           },
           "zaxis": {
            "backgroundcolor": "#E5ECF6",
            "gridcolor": "white",
            "gridwidth": 2,
            "linecolor": "white",
            "showbackground": true,
            "ticks": "",
            "zerolinecolor": "white"
           }
          },
          "shapedefaults": {
           "line": {
            "color": "#2a3f5f"
           }
          },
          "ternary": {
           "aaxis": {
            "gridcolor": "white",
            "linecolor": "white",
            "ticks": ""
           },
           "baxis": {
            "gridcolor": "white",
            "linecolor": "white",
            "ticks": ""
           },
           "bgcolor": "#E5ECF6",
           "caxis": {
            "gridcolor": "white",
            "linecolor": "white",
            "ticks": ""
           }
          },
          "title": {
           "x": 0.05
          },
          "xaxis": {
           "automargin": true,
           "gridcolor": "white",
           "linecolor": "white",
           "ticks": "",
           "title": {
            "standoff": 15
           },
           "zerolinecolor": "white",
           "zerolinewidth": 2
          },
          "yaxis": {
           "automargin": true,
           "gridcolor": "white",
           "linecolor": "white",
           "ticks": "",
           "title": {
            "standoff": 15
           },
           "zerolinecolor": "white",
           "zerolinewidth": 2
          }
         }
        },
        "width": 1125,
        "xaxis": {
         "anchor": "y",
         "domain": [
          0,
          0.2125
         ],
         "showticklabels": false
        },
        "xaxis2": {
         "anchor": "y2",
         "domain": [
          0.2625,
          0.475
         ],
         "showticklabels": false
        },
        "xaxis3": {
         "anchor": "y3",
         "domain": [
          0.525,
          0.7375
         ],
         "showticklabels": false
        },
        "xaxis4": {
         "anchor": "y4",
         "domain": [
          0.7875,
          1
         ],
         "showticklabels": false
        },
        "yaxis": {
         "anchor": "x",
         "domain": [
          0,
          1
         ],
         "gridcolor": "lightgrey",
         "gridwidth": 0.5,
         "showgrid": true,
         "showticklabels": true
        },
        "yaxis2": {
         "anchor": "x2",
         "domain": [
          0,
          1
         ],
         "gridcolor": "lightgrey",
         "gridwidth": 0.5,
         "showgrid": true,
         "showticklabels": true
        },
        "yaxis3": {
         "anchor": "x3",
         "domain": [
          0,
          1
         ],
         "gridcolor": "lightgrey",
         "gridwidth": 0.5,
         "showgrid": true,
         "showticklabels": true
        },
        "yaxis4": {
         "anchor": "x4",
         "domain": [
          0,
          1
         ],
         "gridcolor": "lightgrey",
         "gridwidth": 0.5,
         "showgrid": true,
         "showticklabels": true
        }
       }
      }
     },
     "metadata": {},
     "output_type": "display_data"
    }
   ],
   "source": [
    "# Detectar outliers\n",
    "num_cols = ['Age', 'Weight', 'Body_Temperature', 'Heart_Rate']\n",
    "colors = px.colors.qualitative.Plotly\n",
    "\n",
    "fig = make_subplots(rows=1, cols=4)\n",
    "\n",
    "for i, col in enumerate(num_cols):\n",
    "    fig.add_trace(\n",
    "        go.Box(\n",
    "            y=df_augmented[col],\n",
    "            marker_color=colors[i % len(colors)],\n",
    "            showlegend=True,\n",
    "            name=f\"<span style='font-size:13px'>{col}</span>\"\n",
    "        ),\n",
    "        row=1, col=i+1\n",
    "    )\n",
    "\n",
    "fig = boxplot_style(fig, n_cols=4)\n",
    "fig.show()"
   ]
  },
  {
   "cell_type": "code",
   "execution_count": null,
   "id": "520b9f40",
   "metadata": {},
   "outputs": [
    {
     "data": {
      "application/vnd.plotly.v1+json": {
       "config": {
        "plotlyServerURL": "https://plot.ly"
       },
       "data": [
        {
         "colorscale": [
          [
           0,
           "#440154"
          ],
          [
           0.1111111111111111,
           "#482878"
          ],
          [
           0.2222222222222222,
           "#3e4989"
          ],
          [
           0.3333333333333333,
           "#31688e"
          ],
          [
           0.4444444444444444,
           "#26828e"
          ],
          [
           0.5555555555555556,
           "#1f9e89"
          ],
          [
           0.6666666666666666,
           "#35b779"
          ],
          [
           0.7777777777777778,
           "#6ece58"
          ],
          [
           0.8888888888888888,
           "#b5de2b"
          ],
          [
           1,
           "#fde725"
          ]
         ],
         "showscale": true,
         "type": "heatmap",
         "x": [
          "Age",
          "Weight",
          "Body_Temperature",
          "Heart_Rate"
         ],
         "y": [
          "Age",
          "Weight",
          "Body_Temperature",
          "Heart_Rate"
         ],
         "z": {
          "bdata": "AAAAAAAA8D9O1/sVIjbcP997p09/Ndc/QMj9qDgg2b9O1/sVIjbcPwAAAAAAAPA/U9YG4K2f3j87K5kzgfjjv997p09/Ndc/U9YG4K2f3j8AAAAAAADwPyqxYY3Jfua/QMj9qDgg2b87K5kzgfjjvyqxYY3Jfua/AAAAAAAA8D8=",
          "dtype": "f8",
          "shape": "4, 4"
         },
         "zmax": 1,
         "zmin": -1
        }
       ],
       "layout": {
        "height": 500,
        "margin": {
         "b": 50,
         "l": 50,
         "r": 50,
         "t": 50
        },
        "paper_bgcolor": "rgba(0,0,0,0)",
        "plot_bgcolor": "rgba(0,0,0,0)",
        "template": {
         "data": {
          "bar": [
           {
            "error_x": {
             "color": "#2a3f5f"
            },
            "error_y": {
             "color": "#2a3f5f"
            },
            "marker": {
             "line": {
              "color": "#E5ECF6",
              "width": 0.5
             },
             "pattern": {
              "fillmode": "overlay",
              "size": 10,
              "solidity": 0.2
             }
            },
            "type": "bar"
           }
          ],
          "barpolar": [
           {
            "marker": {
             "line": {
              "color": "#E5ECF6",
              "width": 0.5
             },
             "pattern": {
              "fillmode": "overlay",
              "size": 10,
              "solidity": 0.2
             }
            },
            "type": "barpolar"
           }
          ],
          "carpet": [
           {
            "aaxis": {
             "endlinecolor": "#2a3f5f",
             "gridcolor": "white",
             "linecolor": "white",
             "minorgridcolor": "white",
             "startlinecolor": "#2a3f5f"
            },
            "baxis": {
             "endlinecolor": "#2a3f5f",
             "gridcolor": "white",
             "linecolor": "white",
             "minorgridcolor": "white",
             "startlinecolor": "#2a3f5f"
            },
            "type": "carpet"
           }
          ],
          "choropleth": [
           {
            "colorbar": {
             "outlinewidth": 0,
             "ticks": ""
            },
            "type": "choropleth"
           }
          ],
          "contour": [
           {
            "colorbar": {
             "outlinewidth": 0,
             "ticks": ""
            },
            "colorscale": [
             [
              0,
              "#0d0887"
             ],
             [
              0.1111111111111111,
              "#46039f"
             ],
             [
              0.2222222222222222,
              "#7201a8"
             ],
             [
              0.3333333333333333,
              "#9c179e"
             ],
             [
              0.4444444444444444,
              "#bd3786"
             ],
             [
              0.5555555555555556,
              "#d8576b"
             ],
             [
              0.6666666666666666,
              "#ed7953"
             ],
             [
              0.7777777777777778,
              "#fb9f3a"
             ],
             [
              0.8888888888888888,
              "#fdca26"
             ],
             [
              1,
              "#f0f921"
             ]
            ],
            "type": "contour"
           }
          ],
          "contourcarpet": [
           {
            "colorbar": {
             "outlinewidth": 0,
             "ticks": ""
            },
            "type": "contourcarpet"
           }
          ],
          "heatmap": [
           {
            "colorbar": {
             "outlinewidth": 0,
             "ticks": ""
            },
            "colorscale": [
             [
              0,
              "#0d0887"
             ],
             [
              0.1111111111111111,
              "#46039f"
             ],
             [
              0.2222222222222222,
              "#7201a8"
             ],
             [
              0.3333333333333333,
              "#9c179e"
             ],
             [
              0.4444444444444444,
              "#bd3786"
             ],
             [
              0.5555555555555556,
              "#d8576b"
             ],
             [
              0.6666666666666666,
              "#ed7953"
             ],
             [
              0.7777777777777778,
              "#fb9f3a"
             ],
             [
              0.8888888888888888,
              "#fdca26"
             ],
             [
              1,
              "#f0f921"
             ]
            ],
            "type": "heatmap"
           }
          ],
          "histogram": [
           {
            "marker": {
             "pattern": {
              "fillmode": "overlay",
              "size": 10,
              "solidity": 0.2
             }
            },
            "type": "histogram"
           }
          ],
          "histogram2d": [
           {
            "colorbar": {
             "outlinewidth": 0,
             "ticks": ""
            },
            "colorscale": [
             [
              0,
              "#0d0887"
             ],
             [
              0.1111111111111111,
              "#46039f"
             ],
             [
              0.2222222222222222,
              "#7201a8"
             ],
             [
              0.3333333333333333,
              "#9c179e"
             ],
             [
              0.4444444444444444,
              "#bd3786"
             ],
             [
              0.5555555555555556,
              "#d8576b"
             ],
             [
              0.6666666666666666,
              "#ed7953"
             ],
             [
              0.7777777777777778,
              "#fb9f3a"
             ],
             [
              0.8888888888888888,
              "#fdca26"
             ],
             [
              1,
              "#f0f921"
             ]
            ],
            "type": "histogram2d"
           }
          ],
          "histogram2dcontour": [
           {
            "colorbar": {
             "outlinewidth": 0,
             "ticks": ""
            },
            "colorscale": [
             [
              0,
              "#0d0887"
             ],
             [
              0.1111111111111111,
              "#46039f"
             ],
             [
              0.2222222222222222,
              "#7201a8"
             ],
             [
              0.3333333333333333,
              "#9c179e"
             ],
             [
              0.4444444444444444,
              "#bd3786"
             ],
             [
              0.5555555555555556,
              "#d8576b"
             ],
             [
              0.6666666666666666,
              "#ed7953"
             ],
             [
              0.7777777777777778,
              "#fb9f3a"
             ],
             [
              0.8888888888888888,
              "#fdca26"
             ],
             [
              1,
              "#f0f921"
             ]
            ],
            "type": "histogram2dcontour"
           }
          ],
          "mesh3d": [
           {
            "colorbar": {
             "outlinewidth": 0,
             "ticks": ""
            },
            "type": "mesh3d"
           }
          ],
          "parcoords": [
           {
            "line": {
             "colorbar": {
              "outlinewidth": 0,
              "ticks": ""
             }
            },
            "type": "parcoords"
           }
          ],
          "pie": [
           {
            "automargin": true,
            "type": "pie"
           }
          ],
          "scatter": [
           {
            "fillpattern": {
             "fillmode": "overlay",
             "size": 10,
             "solidity": 0.2
            },
            "type": "scatter"
           }
          ],
          "scatter3d": [
           {
            "line": {
             "colorbar": {
              "outlinewidth": 0,
              "ticks": ""
             }
            },
            "marker": {
             "colorbar": {
              "outlinewidth": 0,
              "ticks": ""
             }
            },
            "type": "scatter3d"
           }
          ],
          "scattercarpet": [
           {
            "marker": {
             "colorbar": {
              "outlinewidth": 0,
              "ticks": ""
             }
            },
            "type": "scattercarpet"
           }
          ],
          "scattergeo": [
           {
            "marker": {
             "colorbar": {
              "outlinewidth": 0,
              "ticks": ""
             }
            },
            "type": "scattergeo"
           }
          ],
          "scattergl": [
           {
            "marker": {
             "colorbar": {
              "outlinewidth": 0,
              "ticks": ""
             }
            },
            "type": "scattergl"
           }
          ],
          "scattermap": [
           {
            "marker": {
             "colorbar": {
              "outlinewidth": 0,
              "ticks": ""
             }
            },
            "type": "scattermap"
           }
          ],
          "scattermapbox": [
           {
            "marker": {
             "colorbar": {
              "outlinewidth": 0,
              "ticks": ""
             }
            },
            "type": "scattermapbox"
           }
          ],
          "scatterpolar": [
           {
            "marker": {
             "colorbar": {
              "outlinewidth": 0,
              "ticks": ""
             }
            },
            "type": "scatterpolar"
           }
          ],
          "scatterpolargl": [
           {
            "marker": {
             "colorbar": {
              "outlinewidth": 0,
              "ticks": ""
             }
            },
            "type": "scatterpolargl"
           }
          ],
          "scatterternary": [
           {
            "marker": {
             "colorbar": {
              "outlinewidth": 0,
              "ticks": ""
             }
            },
            "type": "scatterternary"
           }
          ],
          "surface": [
           {
            "colorbar": {
             "outlinewidth": 0,
             "ticks": ""
            },
            "colorscale": [
             [
              0,
              "#0d0887"
             ],
             [
              0.1111111111111111,
              "#46039f"
             ],
             [
              0.2222222222222222,
              "#7201a8"
             ],
             [
              0.3333333333333333,
              "#9c179e"
             ],
             [
              0.4444444444444444,
              "#bd3786"
             ],
             [
              0.5555555555555556,
              "#d8576b"
             ],
             [
              0.6666666666666666,
              "#ed7953"
             ],
             [
              0.7777777777777778,
              "#fb9f3a"
             ],
             [
              0.8888888888888888,
              "#fdca26"
             ],
             [
              1,
              "#f0f921"
             ]
            ],
            "type": "surface"
           }
          ],
          "table": [
           {
            "cells": {
             "fill": {
              "color": "#EBF0F8"
             },
             "line": {
              "color": "white"
             }
            },
            "header": {
             "fill": {
              "color": "#C8D4E3"
             },
             "line": {
              "color": "white"
             }
            },
            "type": "table"
           }
          ]
         },
         "layout": {
          "annotationdefaults": {
           "arrowcolor": "#2a3f5f",
           "arrowhead": 0,
           "arrowwidth": 1
          },
          "autotypenumbers": "strict",
          "coloraxis": {
           "colorbar": {
            "outlinewidth": 0,
            "ticks": ""
           }
          },
          "colorscale": {
           "diverging": [
            [
             0,
             "#8e0152"
            ],
            [
             0.1,
             "#c51b7d"
            ],
            [
             0.2,
             "#de77ae"
            ],
            [
             0.3,
             "#f1b6da"
            ],
            [
             0.4,
             "#fde0ef"
            ],
            [
             0.5,
             "#f7f7f7"
            ],
            [
             0.6,
             "#e6f5d0"
            ],
            [
             0.7,
             "#b8e186"
            ],
            [
             0.8,
             "#7fbc41"
            ],
            [
             0.9,
             "#4d9221"
            ],
            [
             1,
             "#276419"
            ]
           ],
           "sequential": [
            [
             0,
             "#0d0887"
            ],
            [
             0.1111111111111111,
             "#46039f"
            ],
            [
             0.2222222222222222,
             "#7201a8"
            ],
            [
             0.3333333333333333,
             "#9c179e"
            ],
            [
             0.4444444444444444,
             "#bd3786"
            ],
            [
             0.5555555555555556,
             "#d8576b"
            ],
            [
             0.6666666666666666,
             "#ed7953"
            ],
            [
             0.7777777777777778,
             "#fb9f3a"
            ],
            [
             0.8888888888888888,
             "#fdca26"
            ],
            [
             1,
             "#f0f921"
            ]
           ],
           "sequentialminus": [
            [
             0,
             "#0d0887"
            ],
            [
             0.1111111111111111,
             "#46039f"
            ],
            [
             0.2222222222222222,
             "#7201a8"
            ],
            [
             0.3333333333333333,
             "#9c179e"
            ],
            [
             0.4444444444444444,
             "#bd3786"
            ],
            [
             0.5555555555555556,
             "#d8576b"
            ],
            [
             0.6666666666666666,
             "#ed7953"
            ],
            [
             0.7777777777777778,
             "#fb9f3a"
            ],
            [
             0.8888888888888888,
             "#fdca26"
            ],
            [
             1,
             "#f0f921"
            ]
           ]
          },
          "colorway": [
           "#636efa",
           "#EF553B",
           "#00cc96",
           "#ab63fa",
           "#FFA15A",
           "#19d3f3",
           "#FF6692",
           "#B6E880",
           "#FF97FF",
           "#FECB52"
          ],
          "font": {
           "color": "#2a3f5f"
          },
          "geo": {
           "bgcolor": "white",
           "lakecolor": "white",
           "landcolor": "#E5ECF6",
           "showlakes": true,
           "showland": true,
           "subunitcolor": "white"
          },
          "hoverlabel": {
           "align": "left"
          },
          "hovermode": "closest",
          "mapbox": {
           "style": "light"
          },
          "paper_bgcolor": "white",
          "plot_bgcolor": "#E5ECF6",
          "polar": {
           "angularaxis": {
            "gridcolor": "white",
            "linecolor": "white",
            "ticks": ""
           },
           "bgcolor": "#E5ECF6",
           "radialaxis": {
            "gridcolor": "white",
            "linecolor": "white",
            "ticks": ""
           }
          },
          "scene": {
           "xaxis": {
            "backgroundcolor": "#E5ECF6",
            "gridcolor": "white",
            "gridwidth": 2,
            "linecolor": "white",
            "showbackground": true,
            "ticks": "",
            "zerolinecolor": "white"
           },
           "yaxis": {
            "backgroundcolor": "#E5ECF6",
            "gridcolor": "white",
            "gridwidth": 2,
            "linecolor": "white",
            "showbackground": true,
            "ticks": "",
            "zerolinecolor": "white"
           },
           "zaxis": {
            "backgroundcolor": "#E5ECF6",
            "gridcolor": "white",
            "gridwidth": 2,
            "linecolor": "white",
            "showbackground": true,
            "ticks": "",
            "zerolinecolor": "white"
           }
          },
          "shapedefaults": {
           "line": {
            "color": "#2a3f5f"
           }
          },
          "ternary": {
           "aaxis": {
            "gridcolor": "white",
            "linecolor": "white",
            "ticks": ""
           },
           "baxis": {
            "gridcolor": "white",
            "linecolor": "white",
            "ticks": ""
           },
           "bgcolor": "#E5ECF6",
           "caxis": {
            "gridcolor": "white",
            "linecolor": "white",
            "ticks": ""
           }
          },
          "title": {
           "x": 0.05
          },
          "xaxis": {
           "automargin": true,
           "gridcolor": "white",
           "linecolor": "white",
           "ticks": "",
           "title": {
            "standoff": 15
           },
           "zerolinecolor": "white",
           "zerolinewidth": 2
          },
          "yaxis": {
           "automargin": true,
           "gridcolor": "white",
           "linecolor": "white",
           "ticks": "",
           "title": {
            "standoff": 15
           },
           "zerolinecolor": "white",
           "zerolinewidth": 2
          }
         }
        },
        "width": 700,
        "xaxis": {
         "gridcolor": "lightgrey",
         "gridwidth": 0.5,
         "showgrid": true
        },
        "yaxis": {
         "gridcolor": "lightgrey",
         "gridwidth": 0.5,
         "showgrid": true
        }
       }
      }
     },
     "metadata": {},
     "output_type": "display_data"
    }
   ],
   "source": [
    "# Matriz de correlación\n",
    "num_cols = ['Age', 'Weight', 'Body_Temperature', 'Heart_Rate']\n",
    "corr_matrix = df_augmented[num_cols].corr()\n",
    "\n",
    "fig = go.Figure(data=go.Heatmap(\n",
    "    z=corr_matrix.values,\n",
    "    x=corr_matrix.columns,\n",
    "    y=corr_matrix.columns,\n",
    "    colorscale='Viridis',\n",
    "    zmin=-1, zmax=1,\n",
    "    showscale=True,\n",
    "))\n",
    "\n",
    "fig = heatmap_style(fig)\n",
    "fig.show()"
   ]
  },
  {
   "cell_type": "code",
   "execution_count": 12,
   "id": "4797d723",
   "metadata": {},
   "outputs": [],
   "source": [
    "# Guarda el DataFrame limpio\n",
    "df_augmented.to_csv('data/animal_disease_prediction_cleaned.csv', index=False)"
   ]
  },
  {
   "cell_type": "markdown",
   "id": "caf9640b",
   "metadata": {},
   "source": [
    "**Preprocesamiento de las imágenes**"
   ]
  },
  {
   "cell_type": "code",
   "execution_count": 19,
   "id": "d94b37b5",
   "metadata": {},
   "outputs": [
    {
     "name": "stdout",
     "output_type": "stream",
     "text": [
      "Dental Disease in Cat\n",
      "Dental Disease in Dog\n",
      "Distemper in Dog\n",
      "Ear Mites in Cat\n",
      "Eye Infection in Cat\n",
      "Eye Infection in Dog\n",
      "Feline Leukemia\n",
      "Feline Panleukopenia\n",
      "Fungal Infection in Cat\n",
      "Fungal Infection in Dog\n",
      "Hot Spots in Dog\n",
      "Kennel Cough in Dog\n",
      "Mange in Dog\n",
      "Parvovirus in Dog\n",
      "Ringworm in Cat\n",
      "Scabies in Cat\n",
      "Skin Allergy in Cat\n",
      "Skin Allergy in Dog\n",
      "Tick Infestation in Dog\n",
      "Urinary Tract Infection in Cat\n",
      "Worm Infection in Cat\n",
      "Worm Infection in Dog\n"
     ]
    }
   ],
   "source": [
    "dataset_path = \"./data/pet_disease_images\"\n",
    "target_size = (224, 224)\n",
    "\n",
    "classes = sorted(os.listdir(dataset_path))\n",
    "class_to_idx = {cls_name: idx for idx, cls_name in enumerate(classes)}\n",
    "\n",
    "for cls in classes:\n",
    "    print(cls)\n"
   ]
  },
  {
   "cell_type": "code",
   "execution_count": 20,
   "id": "4e695662",
   "metadata": {},
   "outputs": [
    {
     "name": "stdout",
     "output_type": "stream",
     "text": [
      "Cantidad de imágenes en el dataset: 1673\n"
     ]
    }
   ],
   "source": [
    "image_extensions = {'.jpg', '.jpeg', '.png'}\n",
    "image_count = sum(\n",
    "    1\n",
    "    for root, _, files in os.walk(dataset_path)\n",
    "    for file in files\n",
    "    if os.path.splitext(file.lower())[1] in image_extensions\n",
    ")\n",
    "\n",
    "print(f\"Cantidad de imágenes en el dataset: {image_count}\")\n"
   ]
  },
  {
   "cell_type": "code",
   "execution_count": 14,
   "id": "f5c0fbc3",
   "metadata": {},
   "outputs": [
    {
     "name": "stderr",
     "output_type": "stream",
     "text": [
      "c:\\Users\\jayka\\OneDrive\\Documentos\\Projects\\machine-learning-tf\\env\\Lib\\site-packages\\PIL\\Image.py:1047: UserWarning:\n",
      "\n",
      "Palette images with Transparency expressed in bytes should be converted to RGBA images\n",
      "\n"
     ]
    }
   ],
   "source": [
    "images = []\n",
    "labels = []\n",
    "\n",
    "# Formetear y normalizar imágenes\n",
    "for cls in classes:\n",
    "    cls_folder = os.path.join(dataset_path, cls)\n",
    "    for img_file in os.listdir(cls_folder):\n",
    "        img_path = os.path.join(cls_folder, img_file)\n",
    "        try:\n",
    "            img = load_img(img_path, target_size=target_size)\n",
    "            img_array = img_to_array(img) / 255.0\n",
    "            images.append(img_array)\n",
    "            labels.append(class_to_idx[cls])\n",
    "        except Exception as e:\n",
    "            print(f\"Error cargando {img_path}: {e}\")\n"
   ]
  },
  {
   "cell_type": "code",
   "execution_count": 17,
   "id": "4f9510e4",
   "metadata": {},
   "outputs": [
    {
     "name": "stderr",
     "output_type": "stream",
     "text": [
      "c:\\Users\\jayka\\OneDrive\\Documentos\\Projects\\machine-learning-tf\\env\\Lib\\site-packages\\PIL\\Image.py:1047: UserWarning:\n",
      "\n",
      "Palette images with Transparency expressed in bytes should be converted to RGBA images\n",
      "\n"
     ]
    }
   ],
   "source": [
    "# Data Augmentation\n",
    "augmented_path = \"./data/pet_disease_images_augmented\"\n",
    "\n",
    "datagen = ImageDataGenerator(\n",
    "    rotation_range=20,\n",
    "    width_shift_range=0.1,\n",
    "    height_shift_range=0.1,\n",
    "    zoom_range=0.1,\n",
    "    horizontal_flip=True,\n",
    "    fill_mode='nearest'\n",
    ")\n",
    "\n",
    "for cls in os.listdir(dataset_path):\n",
    "    cls_folder = os.path.join(dataset_path, cls)\n",
    "    cls_aug_folder = os.path.join(augmented_path, cls)\n",
    "    os.makedirs(cls_aug_folder, exist_ok=True)\n",
    "\n",
    "    for img_file in os.listdir(cls_folder):\n",
    "        img_path = os.path.join(cls_folder, img_file)\n",
    "        img = load_img(img_path, target_size=(224,224))\n",
    "        x = img_to_array(img)\n",
    "        x = x.reshape((1,) + x.shape)\n",
    "\n",
    "        i = 0\n",
    "        for batch in datagen.flow(x, batch_size=1, save_to_dir=cls_aug_folder, save_prefix='aug', save_format='png'):\n",
    "            i += 1\n",
    "            if i >= 5:\n",
    "                break"
   ]
  },
  {
   "cell_type": "code",
   "execution_count": 22,
   "id": "74de4c55",
   "metadata": {},
   "outputs": [
    {
     "name": "stdout",
     "output_type": "stream",
     "text": [
      "Cantidad de imágenes en el dataset: 8524\n"
     ]
    }
   ],
   "source": [
    "image_count = sum(\n",
    "    1\n",
    "    for root, _, files in os.walk(augmented_path)\n",
    "    for file in files\n",
    "    if os.path.splitext(file.lower())[1] in image_extensions\n",
    ")\n",
    "\n",
    "print(f\"Cantidad de imágenes en el dataset: {image_count}\")"
   ]
  }
 ],
 "metadata": {
  "kernelspec": {
   "display_name": "env",
   "language": "python",
   "name": "python3"
  },
  "language_info": {
   "codemirror_mode": {
    "name": "ipython",
    "version": 3
   },
   "file_extension": ".py",
   "mimetype": "text/x-python",
   "name": "python",
   "nbconvert_exporter": "python",
   "pygments_lexer": "ipython3",
   "version": "3.13.5"
  }
 },
 "nbformat": 4,
 "nbformat_minor": 5
}
